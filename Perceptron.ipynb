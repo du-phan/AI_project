{
 "cells": [
  {
   "cell_type": "code",
   "execution_count": 127,
   "metadata": {
    "collapsed": false
   },
   "outputs": [],
   "source": [
    "import pandas as pd\n",
    "import numpy as np\n",
    "import random\n",
    "import matplotlib.pyplot as plt\n",
    "%matplotlib inline"
   ]
  },
  {
   "cell_type": "code",
   "execution_count": 128,
   "metadata": {
    "collapsed": true
   },
   "outputs": [],
   "source": [
    "def misclassified(trainSet, labelSet, w):\n",
    "    predictedLabel = np.sign(np.dot(trainSet, np.transpose(w)))\n",
    "    predictedResult = [a == b for a,b in zip(predictedLabel, labelSet)]\n",
    "    misclassifiedIndex = [index for index, value in enumerate(predictedResult) if value == False]\n",
    "    return misclassifiedIndex"
   ]
  },
  {
   "cell_type": "code",
   "execution_count": 129,
   "metadata": {
    "collapsed": true
   },
   "outputs": [],
   "source": [
    "def PLA(training_set,maxIteration):\n",
    "    df = training_set.copy()\n",
    "    \n",
    "    #add x_0 = 1, the bias \n",
    "    df['bias'] = [1] * training_set.shape[0]\n",
    "    col_list = [df.columns[-1]] \n",
    "    col_list.extend(df.columns.tolist()[:-2])\n",
    "    col_list.append(df.columns.tolist()[-2])\n",
    "    \n",
    "    df = df[col_list]\n",
    "    \n",
    "    pointSet = np.array(df.iloc[:,:-1])\n",
    "    labelSet = np.array(df.iloc[:,-1])\n",
    "    \n",
    "    errors = []\n",
    "    \n",
    "    n = len(pointSet[0])\n",
    "    w = np.zeros([1,n]) \n",
    "    #print \"w_initial = \", w\n",
    "    counter = 0\n",
    "    \n",
    "    for i in xrange(maxIteration):\n",
    "        misclassifiedIndex = misclassified(pointSet, labelSet, w)\n",
    "        errors.append(len(misclassifiedIndex)/float(training_set.shape[0]))\n",
    "        #print misclassifiedIndex\n",
    "        if misclassifiedIndex: \n",
    "            theChosenOne = random.choice(misclassifiedIndex)\n",
    "            point = pointSet[theChosenOne].reshape(1,n)\n",
    "            label = labelSet[theChosenOne].reshape(1,1)\n",
    "            #if np.sign(np.dot(point, np.transpose(w))) != label:\n",
    "            #print label\n",
    "            #print point\n",
    "            #print w, label*point\n",
    "            w = w + label*point\n",
    "            #print \"w_{0} = {1}\".format(i,w)\n",
    "            counter += 1 \n",
    "            #print len(misclassifiedIndex)/float(training_set.shape[0])\n",
    "            #df.plot(kind='scatter',x='x',y='y', c='Value')\n",
    "            #l = np.arange(-1,9)\n",
    "            #ymin, ymax = plt.ylim()\n",
    "            #a = -w[0][0]/w[0][1]\n",
    "            #xx = np.linspace(-1,7)\n",
    "            #xx = np.linspace(ymin,ymax).reshape(50,1)\n",
    "            #yy = a*xx - w[0][1]/w[0][1]\n",
    "            #print xx.shape\n",
    "            #print yy.shape\n",
    "            #plt.plot(yy,xx, 'k-')\n",
    "            #plt.plot(point[0][0],point[0][1],'ro')\n",
    "            #plt.show()\n",
    "        else: \n",
    "            break\n",
    "       \n",
    "    predictedLabel = np.sign(np.dot(pointSet, np.transpose(w)))\n",
    "    E_in = sum([a!=b for a,b in zip(predictedLabel, labelSet)])/float(len(predictedLabel))\n",
    "    \n",
    "    # Plot the original data\n",
    "    colormap = np.array(['b','b' ,'r'])\n",
    "    plt.scatter(df.x, df.y, c=colormap[df.Value], s=40)\n",
    "\n",
    "    # Output the values\n",
    "    print \"Coefficient 0 \" + str(w[0,1])\n",
    "    print \"Coefficient 1 \" + str(w[0,2])\n",
    "    print \"Bias \" + str(w[0])\n",
    "\n",
    "    # Calc the hyperplane (decision boundary)\n",
    "    ymin, ymax = plt.ylim()\n",
    "    #w = net.coef_[0]\n",
    "    a = -w[0,1] / w[0,2]\n",
    "    xx = np.linspace(ymin, ymax)\n",
    "    yy = a * xx - w[0,0]/w[0,2]\n",
    "\n",
    "    # Plot the line\n",
    "    plt.plot(xx,yy, 'k-')\n",
    "\n",
    "    #for predict, real in zip(predictedLabel, labelSet):\n",
    "        #print predict,real\n",
    "    \n",
    "    return E_in, counter, w, errors"
   ]
  },
  {
   "cell_type": "markdown",
   "metadata": {},
   "source": [
    "Create data frame"
   ]
  },
  {
   "cell_type": "code",
   "execution_count": 130,
   "metadata": {
    "collapsed": false
   },
   "outputs": [
    {
     "data": {
      "text/html": [
       "<div>\n",
       "<table border=\"1\" class=\"dataframe\">\n",
       "  <thead>\n",
       "    <tr style=\"text-align: right;\">\n",
       "      <th></th>\n",
       "      <th>x</th>\n",
       "      <th>y</th>\n",
       "      <th>Value</th>\n",
       "    </tr>\n",
       "  </thead>\n",
       "  <tbody>\n",
       "    <tr>\n",
       "      <th>0</th>\n",
       "      <td>0,2</td>\n",
       "      <td>4,839161656</td>\n",
       "      <td>A</td>\n",
       "    </tr>\n",
       "    <tr>\n",
       "      <th>1</th>\n",
       "      <td>0,4</td>\n",
       "      <td>5,043697771</td>\n",
       "      <td>A</td>\n",
       "    </tr>\n",
       "    <tr>\n",
       "      <th>2</th>\n",
       "      <td>0,6</td>\n",
       "      <td>4,548758355</td>\n",
       "      <td>A</td>\n",
       "    </tr>\n",
       "    <tr>\n",
       "      <th>3</th>\n",
       "      <td>0,8</td>\n",
       "      <td>3,626296189</td>\n",
       "      <td>A</td>\n",
       "    </tr>\n",
       "    <tr>\n",
       "      <th>4</th>\n",
       "      <td>1</td>\n",
       "      <td>3,777023723</td>\n",
       "      <td>A</td>\n",
       "    </tr>\n",
       "  </tbody>\n",
       "</table>\n",
       "</div>"
      ],
      "text/plain": [
       "     x            y Value\n",
       "0  0,2  4,839161656     A\n",
       "1  0,4  5,043697771     A\n",
       "2  0,6  4,548758355     A\n",
       "3  0,8  3,626296189     A\n",
       "4    1  3,777023723     A"
      ]
     },
     "execution_count": 130,
     "metadata": {},
     "output_type": "execute_result"
    }
   ],
   "source": [
    "df = pd.read_csv('A et B.txt', sep=' ', header=None)\n",
    "df.columns = ['x','y','Value']\n",
    "df.head()"
   ]
  },
  {
   "cell_type": "code",
   "execution_count": 131,
   "metadata": {
    "collapsed": true
   },
   "outputs": [],
   "source": [
    "def str_to_float(df): \n",
    "    new_df = df.copy()\n",
    "    return new_df.applymap(lambda x: float(x.replace(',','.')))"
   ]
  },
  {
   "cell_type": "code",
   "execution_count": 132,
   "metadata": {
    "collapsed": true
   },
   "outputs": [],
   "source": [
    "def binary_code(df): #1 for A, -1 for B\n",
    "    new_df = df.copy()\n",
    "    return new_df.apply(lambda x: 1 if x == 'A' else -1)"
   ]
  },
  {
   "cell_type": "code",
   "execution_count": 133,
   "metadata": {
    "collapsed": false
   },
   "outputs": [],
   "source": [
    "first_2_col = str_to_float(df.iloc[:,:-1])\n",
    "value_col = binary_code(df.iloc[:,-1])\n",
    "df.iloc[:,:-1] = first_2_col\n",
    "df.iloc[:,-1] = value_col"
   ]
  },
  {
   "cell_type": "code",
   "execution_count": 134,
   "metadata": {
    "collapsed": false
   },
   "outputs": [],
   "source": [
    "df = df.iloc[np.random.permutation(len(df))].reset_index(drop=True)"
   ]
  },
  {
   "cell_type": "code",
   "execution_count": 135,
   "metadata": {
    "collapsed": false
   },
   "outputs": [
    {
     "name": "stdout",
     "output_type": "stream",
     "text": [
      "Coefficient 0 -122.8\n",
      "Coefficient 1 -65.473600039\n",
      "Bias [392.0 -122.79999999985313 -65.47360003900731]\n"
     ]
    },
    {
     "data": {
      "text/plain": [
       "array([ 0.18333333])"
      ]
     },
     "execution_count": 135,
     "metadata": {},
     "output_type": "execute_result"
    },
    {
     "data": {
      "image/png": "[encoded data removed]",
      "text/plain": [
       "<matplotlib.figure.Figure at 0xcb03358>"
      ]
     },
     "metadata": {},
     "output_type": "display_data"
    }
   ],
   "source": [
    "E_in, counter, w, errors = PLA(training_set=df, maxIteration=100000)\n",
    "E_in"
   ]
  },
  {
   "cell_type": "code",
   "execution_count": null,
   "metadata": {
    "collapsed": true
   },
   "outputs": [],
   "source": []
  },
  {
   "cell_type": "code",
   "execution_count": null,
   "metadata": {
    "collapsed": true
   },
   "outputs": [],
   "source": []
  },
  {
   "cell_type": "code",
   "execution_count": null,
   "metadata": {
    "collapsed": true
   },
   "outputs": [],
   "source": []
  },
  {
   "cell_type": "code",
   "execution_count": null,
   "metadata": {
    "collapsed": true
   },
   "outputs": [],
   "source": []
  },
  {
   "cell_type": "code",
   "execution_count": null,
   "metadata": {
    "collapsed": true
   },
   "outputs": [],
   "source": []
  },
  {
   "cell_type": "code",
   "execution_count": null,
   "metadata": {
    "collapsed": true
   },
   "outputs": [],
   "source": []
  },
  {
   "cell_type": "code",
   "execution_count": null,
   "metadata": {
    "collapsed": true
   },
   "outputs": [],
   "source": []
  }
 ],
 "metadata": {
  "kernelspec": {
   "display_name": "Python 2",
   "language": "python",
   "name": "python2"
  },
  "language_info": {
   "codemirror_mode": {
    "name": "ipython",
    "version": 2
   },
   "file_extension": ".py",
   "mimetype": "text/x-python",
   "name": "python",
   "nbconvert_exporter": "python",
   "pygments_lexer": "ipython2",
   "version": "2.7.11"
  }
 },
 "nbformat": 4,
 "nbformat_minor": 0
}
