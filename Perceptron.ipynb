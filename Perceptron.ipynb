{
 "cells": [
  {
   "cell_type": "code",
   "execution_count": 87,
   "metadata": {
    "collapsed": false
   },
   "outputs": [],
   "source": [
    "import pandas as pd\n",
    "import numpy as np\n",
    "import random\n",
    "import matplotlib.pyplot as plt\n",
    "import time\n",
    "%matplotlib inline"
   ]
  },
  {
   "cell_type": "code",
   "execution_count": 88,
   "metadata": {
    "collapsed": true
   },
   "outputs": [],
   "source": [
    "def misclassified(trainSet, labelSet, w):\n",
    "    predictedLabel = np.sign(np.dot(trainSet, np.transpose(w)))\n",
    "    predictedResult = [a == b for a,b in zip(predictedLabel, labelSet)]\n",
    "    misclassifiedIndex = [index for index, value in enumerate(predictedResult) if value == False]\n",
    "    return misclassifiedIndex"
   ]
  },
  {
   "cell_type": "code",
   "execution_count": 130,
   "metadata": {
    "collapsed": false
   },
   "outputs": [],
   "source": [
    "def PLA(training_set,maxIteration):\n",
    "    df = training_set.copy()\n",
    "    \n",
    "    #add x_0 = 1, the bias \n",
    "    df['bias'] = [1] * training_set.shape[0]\n",
    "    col_list = [df.columns[-1]] \n",
    "    col_list.extend(df.columns.tolist()[:-2])\n",
    "    col_list.append(df.columns.tolist()[-2])\n",
    "    \n",
    "    df = df[col_list]\n",
    "    \n",
    "    pointSet = np.array(df.iloc[:,:-1])\n",
    "    labelSet = np.array(df.iloc[:,-1])\n",
    "    \n",
    "    n = len(pointSet[0])\n",
    "    w = np.zeros([1,n]) \n",
    "    counter = 0\n",
    "    \n",
    "    for i in xrange(maxIteration):\n",
    "        misclassifiedIndex = misclassified(pointSet, labelSet, w)\n",
    "        if misclassifiedIndex: \n",
    "            theChosenOne = random.choice(misclassifiedIndex)\n",
    "            point = pointSet[theChosenOne].reshape(1,n)\n",
    "            label = labelSet[theChosenOne].reshape(1,1)\n",
    "            w = w + label*point\n",
    "            counter += 1 \n",
    "        else: \n",
    "            break\n",
    "       \n",
    "    predictedLabel = np.sign(np.dot(pointSet, np.transpose(w)))\n",
    "    error_count = sum([a!=b for a,b in zip(predictedLabel, labelSet)])\n",
    "    E_in = error_count/float(len(predictedLabel))\n",
    "    \n",
    "    print \"Misclassified labels = {0}/{1}\".format(error_count[0], len(predictedLabel))\n",
    "    print \"In sample error = {0}%\".format(100.0*E_in[0])\n",
    "\n",
    "    # Output the values\n",
    "    print \"Coefficient 0: \" + str(w[0,1])\n",
    "    print \"Coefficient 1: \" + str(w[0,2])\n",
    "    print \"Bias: \" + str(w[0,0])\n",
    "\n",
    "    # Plot the original data\n",
    "    colormap = np.array(['b','b' ,'r'])\n",
    "    plt.scatter(df.x, df.y, c=colormap[df.Value], s=40)\n",
    "    \n",
    "    # Calculate the hyperplane (decision boundary)\n",
    "    ymin, ymax = plt.ylim()\n",
    "    a = -w[0,1] / w[0,2]\n",
    "    xx = np.linspace(ymin, ymax)\n",
    "    yy = a * xx - w[0,0]/w[0,2]\n",
    "\n",
    "    # Plot the line\n",
    "    plt.plot(xx,yy, 'k-')\n",
    "    plt.title(\"Result\")\n",
    "    \n",
    "    return E_in, counter, w"
   ]
  },
  {
   "cell_type": "markdown",
   "metadata": {},
   "source": [
    "Create data frame"
   ]
  },
  {
   "cell_type": "code",
   "execution_count": 131,
   "metadata": {
    "collapsed": true
   },
   "outputs": [],
   "source": [
    "def str_to_float(df): \n",
    "    new_df = df.copy()\n",
    "    return new_df.applymap(lambda x: float(x.replace(',','.')))"
   ]
  },
  {
   "cell_type": "code",
   "execution_count": 132,
   "metadata": {
    "collapsed": true
   },
   "outputs": [],
   "source": [
    "def binary_code(df): #1 for A, -1 for B\n",
    "    new_df = df.copy()\n",
    "    return new_df.apply(lambda x: 1 if x == 'A' else -1)"
   ]
  },
  {
   "cell_type": "code",
   "execution_count": 133,
   "metadata": {
    "collapsed": false
   },
   "outputs": [
    {
     "data": {
      "text/html": [
       "<div>\n",
       "<table border=\"1\" class=\"dataframe\">\n",
       "  <thead>\n",
       "    <tr style=\"text-align: right;\">\n",
       "      <th></th>\n",
       "      <th>x</th>\n",
       "      <th>y</th>\n",
       "      <th>Value</th>\n",
       "    </tr>\n",
       "  </thead>\n",
       "  <tbody>\n",
       "    <tr>\n",
       "      <th>0</th>\n",
       "      <td>3.6</td>\n",
       "      <td>-0.770419</td>\n",
       "      <td>-1</td>\n",
       "    </tr>\n",
       "    <tr>\n",
       "      <th>1</th>\n",
       "      <td>1.6</td>\n",
       "      <td>3.2789</td>\n",
       "      <td>-1</td>\n",
       "    </tr>\n",
       "    <tr>\n",
       "      <th>2</th>\n",
       "      <td>3</td>\n",
       "      <td>0.0824294</td>\n",
       "      <td>1</td>\n",
       "    </tr>\n",
       "    <tr>\n",
       "      <th>3</th>\n",
       "      <td>3.4</td>\n",
       "      <td>-0.271965</td>\n",
       "      <td>-1</td>\n",
       "    </tr>\n",
       "    <tr>\n",
       "      <th>4</th>\n",
       "      <td>2.2</td>\n",
       "      <td>0.919316</td>\n",
       "      <td>1</td>\n",
       "    </tr>\n",
       "  </tbody>\n",
       "</table>\n",
       "</div>"
      ],
      "text/plain": [
       "     x          y  Value\n",
       "0  3.6  -0.770419     -1\n",
       "1  1.6     3.2789     -1\n",
       "2    3  0.0824294      1\n",
       "3  3.4  -0.271965     -1\n",
       "4  2.2   0.919316      1"
      ]
     },
     "execution_count": 133,
     "metadata": {},
     "output_type": "execute_result"
    }
   ],
   "source": [
    "df = pd.read_csv('A et B.txt', sep=' ', header=None)\n",
    "df.columns = ['x','y','Value']\n",
    "\n",
    "first_2_col = str_to_float(df.iloc[:,:-1])\n",
    "value_col = binary_code(df.iloc[:,-1])\n",
    "df.iloc[:,:-1] = first_2_col\n",
    "df.iloc[:,-1] = value_col\n",
    "\n",
    "df = df.iloc[np.random.permutation(len(df))].reset_index(drop=True)\n",
    "df.head()"
   ]
  },
  {
   "cell_type": "code",
   "execution_count": 136,
   "metadata": {
    "collapsed": false
   },
   "outputs": [
    {
     "name": "stdout",
     "output_type": "stream",
     "text": [
      "Misclassified labels = 1/60\n",
      "In sample error = 1.66666666667%\n",
      "Coefficient 0: -130.4\n",
      "Coefficient 1: -64.968004282\n",
      "Bias: 398.0\n",
      "Processing time: 0.38 minutes\n"
     ]
    },
    {
     "data": {
      "image/png": "[encoded data removed]",
      "text/plain": [
       "<matplotlib.figure.Figure at 0xe722f28>"
      ]
     },
     "metadata": {},
     "output_type": "display_data"
    }
   ],
   "source": [
    "t0 = time.clock()\n",
    "E_in, counter, w = PLA(training_set=df, maxIteration=100000)\n",
    "print \"Processing time: {0:.2f} minutes\".format((time.clock() - t0)/60)"
   ]
  }
 ],
 "metadata": {
  "kernelspec": {
   "display_name": "Python 2",
   "language": "python",
   "name": "python2"
  },
  "language_info": {
   "codemirror_mode": {
    "name": "ipython",
    "version": 2
   },
   "file_extension": ".py",
   "mimetype": "text/x-python",
   "name": "python",
   "nbconvert_exporter": "python",
   "pygments_lexer": "ipython2",
   "version": "2.7.10"
  }
 },
 "nbformat": 4,
 "nbformat_minor": 0
}
