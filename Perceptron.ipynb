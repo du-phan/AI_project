{
 "cells": [
  {
   "cell_type": "code",
   "execution_count": 1,
   "metadata": {
    "collapsed": false
   },
   "outputs": [],
   "source": [
    "import pandas as pd\n",
    "import numpy as np\n",
    "import random\n",
    "import matplotlib.pyplot as plt\n",
    "import time\n",
    "%matplotlib inline"
   ]
  },
  {
   "cell_type": "code",
   "execution_count": 2,
   "metadata": {
    "collapsed": true
   },
   "outputs": [],
   "source": [
    "def misclassified(trainSet, labelSet, w):\n",
    "    predictedLabel = np.sign(np.dot(trainSet, np.transpose(w)))\n",
    "    predictedResult = [a == b for a,b in zip(predictedLabel, labelSet)]\n",
    "    misclassifiedIndex = [index for index, value in enumerate(predictedResult) if value == False]\n",
    "    return misclassifiedIndex"
   ]
  },
  {
   "cell_type": "code",
   "execution_count": 3,
   "metadata": {
    "collapsed": false
   },
   "outputs": [],
   "source": [
    "def PLA(training_set,maxIteration):\n",
    "    df = training_set.copy()\n",
    "    \n",
    "    #add x_0 = 1, the bias \n",
    "    df['bias'] = [1] * training_set.shape[0]\n",
    "    col_list = [df.columns[-1]] \n",
    "    col_list.extend(df.columns.tolist()[:-2])\n",
    "    col_list.append(df.columns.tolist()[-2])\n",
    "    \n",
    "    df = df[col_list]\n",
    "    \n",
    "    pointSet = np.array(df.iloc[:,:-1])\n",
    "    labelSet = np.array(df.iloc[:,-1])\n",
    "    \n",
    "    n = len(pointSet[0])\n",
    "    w = np.zeros([1,n]) \n",
    "    counter = 0\n",
    "    \n",
    "    for i in xrange(maxIteration):\n",
    "        misclassifiedIndex = misclassified(pointSet, labelSet, w)\n",
    "        if misclassifiedIndex: \n",
    "            theChosenOne = random.choice(misclassifiedIndex)\n",
    "            point = pointSet[theChosenOne].reshape(1,n)\n",
    "            label = labelSet[theChosenOne].reshape(1,1)\n",
    "            w = w + label*point\n",
    "            counter += 1 \n",
    "        else: \n",
    "            break\n",
    "       \n",
    "    predictedLabel = np.sign(np.dot(pointSet, np.transpose(w)))\n",
    "    error_count = sum([a!=b for a,b in zip(predictedLabel, labelSet)])\n",
    "    E_in = error_count/float(len(predictedLabel))\n",
    "    \n",
    "    print \"Misclassified labels = {0}/{1}\".format(error_count[0], len(predictedLabel))\n",
    "    print \"In sample error = {0}%\".format(100.0*E_in[0])\n",
    "\n",
    "    # Output the values\n",
    "    print \"Coefficient 0: \" + str(w[0,1])\n",
    "    print \"Coefficient 1: \" + str(w[0,2])\n",
    "    print \"Bias: \" + str(w[0,0])\n",
    "\n",
    "    # Plot the original data\n",
    "    colormap = np.array(['b','b' ,'r'])\n",
    "    plt.scatter(df.x, df.y, c=colormap[df.Value], s=40)\n",
    "    \n",
    "    # Calculate the hyperplane (decision boundary)\n",
    "    ymin, ymax = plt.ylim()\n",
    "    a = -w[0,1] / w[0,2]\n",
    "    xx = np.linspace(ymin, ymax)\n",
    "    yy = a * xx - w[0,0]/w[0,2]\n",
    "\n",
    "    # Plot the line\n",
    "    plt.plot(xx,yy, 'k-')\n",
    "    plt.title(\"Result\")\n",
    "    \n",
    "    return E_in, counter, w"
   ]
  },
  {
   "cell_type": "markdown",
   "metadata": {},
   "source": [
    "#### Create data frame"
   ]
  },
  {
   "cell_type": "code",
   "execution_count": 4,
   "metadata": {
    "collapsed": true
   },
   "outputs": [],
   "source": [
    "def str_to_float(df): \n",
    "    new_df = df.copy()\n",
    "    # replace the comma in the file by point so that Python know those are float number\n",
    "    return new_df.applymap(lambda x: float(x.replace(',','.'))) "
   ]
  },
  {
   "cell_type": "code",
   "execution_count": 5,
   "metadata": {
    "collapsed": true
   },
   "outputs": [],
   "source": [
    "def binary_code(df): #1 for A, -1 for B\n",
    "    new_df = df.copy()\n",
    "    return new_df.apply(lambda x: 1 if x == 'A' else -1)"
   ]
  },
  {
   "cell_type": "markdown",
   "metadata": {},
   "source": [
    "#### We change the label of these 2 classes to 1 and -1. It will be much more practical and more clear because we can use the sign of the Perceptron output as the classification criteria."
   ]
  },
  {
   "cell_type": "code",
   "execution_count": 6,
   "metadata": {
    "collapsed": true
   },
   "outputs": [],
   "source": [
    "def create_df(file_name):\n",
    "    df = pd.read_csv(file_name, sep=' ', header=None)\n",
    "    df.columns = ['x','y','Value']\n",
    "\n",
    "    first_2_col = str_to_float(df.iloc[:,:-1])\n",
    "    value_col = binary_code(df.iloc[:,-1])\n",
    "    df.iloc[:,:-1] = first_2_col\n",
    "    df.iloc[:,-1] = value_col\n",
    "\n",
    "    df = df.iloc[np.random.permutation(len(df))].reset_index(drop=True)\n",
    "    \n",
    "    return df"
   ]
  },
  {
   "cell_type": "code",
   "execution_count": 7,
   "metadata": {
    "collapsed": true
   },
   "outputs": [],
   "source": [
    "df = create_df(file_name=\"A et B.txt\")"
   ]
  },
  {
   "cell_type": "code",
   "execution_count": 8,
   "metadata": {
    "collapsed": false
   },
   "outputs": [
    {
     "name": "stdout",
     "output_type": "stream",
     "text": [
      "Misclassified labels = 5/60\n",
      "In sample error = 8.33333333333%\n",
      "Coefficient 0: -127.2\n",
      "Coefficient 1: -67.237930116\n",
      "Bias: 386.0\n",
      "Processing time: 0.39 minutes\n"
     ]
    },
    {
     "data": {
      "image/png": "[encoded data removed]",
      "text/plain": [
       "<matplotlib.figure.Figure at 0x8a17cf8>"
      ]
     },
     "metadata": {},
     "output_type": "display_data"
    }
   ],
   "source": [
    "t0 = time.clock()\n",
    "E_in, counter, w = PLA(training_set=df, maxIteration=100000)\n",
    "print \"Processing time: {0:.2f} minutes\".format((time.clock() - t0)/60)"
   ]
  }
 ],
 "metadata": {
  "kernelspec": {
   "display_name": "Python 2",
   "language": "python",
   "name": "python2"
  },
  "language_info": {
   "codemirror_mode": {
    "name": "ipython",
    "version": 2
   },
   "file_extension": ".py",
   "mimetype": "text/x-python",
   "name": "python",
   "nbconvert_exporter": "python",
   "pygments_lexer": "ipython2",
   "version": "2.7.11"
  }
 },
 "nbformat": 4,
 "nbformat_minor": 0
}
