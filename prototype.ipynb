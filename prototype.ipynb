{
 "cells": [
  {
   "cell_type": "markdown",
   "metadata": {},
   "source": [
    "### We begin by creating the tree structure.\n"
   ]
  },
  {
   "cell_type": "code",
   "execution_count": 76,
   "metadata": {
    "collapsed": false
   },
   "outputs": [],
   "source": [
    "class TreeNode():\n",
    "    def __init__(self, name):\n",
    "        self.name = name\n",
    "        self.children = {}\n",
    "\n",
    "    def addChild(self, TreeNode, weight):\n",
    "        self.children[TreeNode] = weight\n",
    "        \n",
    "    def to(self, node):\n",
    "        if node in self.children:\n",
    "            return self.children[node]\n",
    "        else: \n",
    "            return 0"
   ]
  },
  {
   "cell_type": "code",
   "execution_count": 89,
   "metadata": {
    "collapsed": false
   },
   "outputs": [],
   "source": [
    "A = TreeNode('A')\n",
    "B = TreeNode('B')\n",
    "C = TreeNode('C')\n",
    "D = TreeNode('D')\n",
    "E = TreeNode('E')\n",
    "F = TreeNode('F')\n",
    "G = TreeNode('G')\n",
    "H = TreeNode('H')\n",
    "I = TreeNode('I') \n",
    "J = TreeNode('J')\n",
    "K = TreeNode('K')\n",
    "L = TreeNode('L')\n",
    "M = TreeNode('M')\n",
    "N = TreeNode('N')\n",
    "O = TreeNode('O')\n",
    "P = TreeNode('P')\n",
    "Q = TreeNode('Q')\n",
    "R = TreeNode('R')\n",
    "S = TreeNode('S')\n",
    "T = TreeNode('T')\n",
    "U = TreeNode('U')\n",
    "V = TreeNode('V')\n",
    "W = TreeNode('W')"
   ]
  },
  {
   "cell_type": "code",
   "execution_count": 90,
   "metadata": {
    "collapsed": false
   },
   "outputs": [],
   "source": [
    "A.addChild(B,4)\n",
    "A.addChild(C,5)\n",
    "A.addChild(D,6)\n",
    "\n",
    "B.addChild(A,4)\n",
    "B.addChild(E,5)\n",
    "\n",
    "C.addChild(A,5)\n",
    "C.addChild(D,4)\n",
    "C.addChild(E,6)\n",
    "C.addChild(G,8)\n",
    "\n",
    "D.addChild(A,6)\n",
    "D.addChild(C,4)\n",
    "D.addChild(F,9)\n",
    "\n",
    "E.addChild(B,5)\n",
    "E.addChild(C,6)\n",
    "E.addChild(H,4)\n",
    "\n",
    "F.addChild(D,9)\n",
    "F.addChild(L,9)\n",
    "\n",
    "G.addChild(C,8)\n",
    "G.addChild(H,8)\n",
    "G.addChild(K,8)\n",
    "\n",
    "H.addChild(E,4)\n",
    "H.addChild(G,8)\n",
    "H.addChild(I,2)\n",
    "\n",
    "I.addChild(H,2)\n",
    "I.addChild(J,3)\n",
    "I.addChild(K,4)\n",
    "\n",
    "J.addChild(I,3)\n",
    "\n",
    "K.addChild(G,8)\n",
    "K.addChild(I,4)\n",
    "\n",
    "L.addChild(F,9)\n",
    "L.addChild(M,2)\n",
    "L.addChild(N,4)\n",
    "L.addChild(Q,7)\n",
    "L.addChild(W,10)\n",
    "\n",
    "M.addChild(L,2)\n",
    "\n",
    "N.addChild(L,4)\n",
    "N.addChild(O,7)\n",
    "N.addChild(P,3)\n",
    "\n",
    "O.addChild(N,7)\n",
    "O.addChild(P,3)\n",
    "O.addChild(S,8)\n",
    "\n",
    "P.addChild(N,3)\n",
    "P.addChild(O,3)\n",
    "P.addChild(R,5)\n",
    "\n",
    "Q.addChild(L,7)\n",
    "Q.addChild(R,3)\n",
    "\n",
    "R.addChild(P,5)\n",
    "R.addChild(Q,3)\n",
    "R.addChild(T,6)\n",
    "\n",
    "S.addChild(O,8)\n",
    "S.addChild(U,7)\n",
    "\n",
    "T.addChild(R,6)\n",
    "T.addChild(U,5)\n",
    "\n",
    "U.addChild(S,7)\n",
    "U.addChild(T,5)\n",
    "U.addChild(V,11)\n",
    "\n",
    "V.addChild(U,11)\n",
    "V.addChild(W,6)\n",
    "\n",
    "W.addChild(K,7)\n",
    "W.addChild(L,10)\n",
    "W.addChild(V,6)"
   ]
  },
  {
   "cell_type": "markdown",
   "metadata": {},
   "source": [
    "### NB: this data structure has some redundancies: it stocks both d(A,B) and d(B,A). Furthermore, for a large graph, the computation time will be huge. A matrix-type data structure might be a better choice ? "
   ]
  },
  {
   "cell_type": "code",
   "execution_count": 91,
   "metadata": {
    "collapsed": true
   },
   "outputs": [],
   "source": [
    "streetMap = [A,B,C,D,E,F,G,H,I,J,K,L,M,N,O,P,Q,R,S,T,U,V,W]"
   ]
  },
  {
   "cell_type": "markdown",
   "metadata": {},
   "source": [
    "### Question 1: "
   ]
  },
  {
   "cell_type": "code",
   "execution_count": 109,
   "metadata": {
    "collapsed": false
   },
   "outputs": [],
   "source": [
    "def find_impasse(streetMap): \n",
    "    impasse_list = [node for node in streetMap if len(node.children) == 1]\n",
    "    return impasse_list"
   ]
  },
  {
   "cell_type": "code",
   "execution_count": 110,
   "metadata": {
    "collapsed": false
   },
   "outputs": [
    {
     "name": "stdout",
     "output_type": "stream",
     "text": [
      "J\n",
      "M\n"
     ]
    }
   ],
   "source": [
    "impasse_list = find_impasse(streetMap)\n",
    "for impasse in impasse_list:\n",
    "    print impasse.name"
   ]
  },
  {
   "cell_type": "markdown",
   "metadata": {},
   "source": [
    "### Question 2"
   ]
  },
  {
   "cell_type": "code",
   "execution_count": 132,
   "metadata": {
    "collapsed": true
   },
   "outputs": [],
   "source": [
    "from collections import deque"
   ]
  },
  {
   "cell_type": "code",
   "execution_count": null,
   "metadata": {
    "collapsed": true
   },
   "outputs": [],
   "source": [
    "def find_min_vertice(dist_vertice):\n",
    "        return min(dist_vertice, key = lambda x: dist_vertice[x])"
   ]
  },
  {
   "cell_type": "code",
   "execution_count": 152,
   "metadata": {
    "collapsed": false
   },
   "outputs": [],
   "source": [
    "def djisktra(x,y, streetMap):\n",
    "    visited_vertice = deque([])\n",
    "    dist_vertice = {}\n",
    "    for vertice in streetMap: \n",
    "        if vertice is x:\n",
    "            dist_vertice[vertice.name] = 0\n",
    "        else:\n",
    "            dist_vertice[vertice.name] = float('inf') #assign initial distance to infinity\n",
    "    vertice_list = [vertice.name for vertice in streetmap]\n",
    "    vertice_list = sorted(dist_vertice, key = lambda x: dist_vertice[x]) \n",
    "    while vertice_list: # while the vertice list is not empty\n",
    "        min_vertice = find_min_vertice(dist_vertice)\n",
    "        visited_vertice.append(min_vertice)\n",
    "        \n",
    "    \n",
    "\n",
    "    \n",
    "    "
   ]
  },
  {
   "cell_type": "code",
   "execution_count": 137,
   "metadata": {
    "collapsed": false
   },
   "outputs": [],
   "source": [
    "lst = djisktra(B,S,streetMap)"
   ]
  },
  {
   "cell_type": "code",
   "execution_count": 153,
   "metadata": {
    "collapsed": false
   },
   "outputs": [
    {
     "data": {
      "text/plain": [
       "{'A': inf,\n",
       " 'B': 0,\n",
       " 'C': inf,\n",
       " 'D': inf,\n",
       " 'E': inf,\n",
       " 'F': inf,\n",
       " 'G': inf,\n",
       " 'H': inf,\n",
       " 'I': inf,\n",
       " 'J': inf,\n",
       " 'K': inf,\n",
       " 'L': inf,\n",
       " 'M': inf,\n",
       " 'N': inf,\n",
       " 'O': inf,\n",
       " 'P': inf,\n",
       " 'Q': inf,\n",
       " 'R': inf,\n",
       " 'S': inf,\n",
       " 'T': inf,\n",
       " 'U': inf,\n",
       " 'V': inf,\n",
       " 'W': inf}"
      ]
     },
     "execution_count": 153,
     "metadata": {},
     "output_type": "execute_result"
    }
   ],
   "source": [
    "lst"
   ]
  },
  {
   "cell_type": "code",
   "execution_count": 161,
   "metadata": {
    "collapsed": false
   },
   "outputs": [
    {
     "data": {
      "text/plain": [
       "[('B', 0),\n",
       " ('A', inf),\n",
       " ('C', inf),\n",
       " ('E', inf),\n",
       " ('D', inf),\n",
       " ('G', inf),\n",
       " ('F', inf),\n",
       " ('I', inf),\n",
       " ('H', inf),\n",
       " ('K', inf),\n",
       " ('J', inf),\n",
       " ('M', inf),\n",
       " ('L', inf),\n",
       " ('O', inf),\n",
       " ('N', inf),\n",
       " ('Q', inf),\n",
       " ('P', inf),\n",
       " ('S', inf),\n",
       " ('R', inf),\n",
       " ('U', inf),\n",
       " ('T', inf),\n",
       " ('W', inf),\n",
       " ('V', inf)]"
      ]
     },
     "execution_count": 161,
     "metadata": {},
     "output_type": "execute_result"
    }
   ],
   "source": [
    "lst2 = sorted(lst.items(), key = lambda x:x[1])\n",
    "lst2"
   ]
  },
  {
   "cell_type": "markdown",
   "metadata": {},
   "source": [
    "lst = deque(['a','b','c'])\n",
    "lst.popleft()"
   ]
  },
  {
   "cell_type": "code",
   "execution_count": 122,
   "metadata": {
    "collapsed": false
   },
   "outputs": [
    {
     "name": "stdout",
     "output_type": "stream",
     "text": [
      "ok\n"
     ]
    }
   ],
   "source": [
    "lst\n",
    "t = [] \n",
    "if not t: \n",
    "    print 'ok'"
   ]
  },
  {
   "cell_type": "code",
   "execution_count": null,
   "metadata": {
    "collapsed": true
   },
   "outputs": [],
   "source": []
  },
  {
   "cell_type": "code",
   "execution_count": null,
   "metadata": {
    "collapsed": true
   },
   "outputs": [],
   "source": []
  },
  {
   "cell_type": "code",
   "execution_count": null,
   "metadata": {
    "collapsed": true
   },
   "outputs": [],
   "source": []
  },
  {
   "cell_type": "code",
   "execution_count": null,
   "metadata": {
    "collapsed": true
   },
   "outputs": [],
   "source": []
  },
  {
   "cell_type": "code",
   "execution_count": null,
   "metadata": {
    "collapsed": true
   },
   "outputs": [],
   "source": []
  },
  {
   "cell_type": "code",
   "execution_count": null,
   "metadata": {
    "collapsed": true
   },
   "outputs": [],
   "source": []
  },
  {
   "cell_type": "code",
   "execution_count": null,
   "metadata": {
    "collapsed": true
   },
   "outputs": [],
   "source": []
  },
  {
   "cell_type": "code",
   "execution_count": null,
   "metadata": {
    "collapsed": true
   },
   "outputs": [],
   "source": []
  },
  {
   "cell_type": "code",
   "execution_count": null,
   "metadata": {
    "collapsed": true
   },
   "outputs": [],
   "source": []
  },
  {
   "cell_type": "code",
   "execution_count": null,
   "metadata": {
    "collapsed": true
   },
   "outputs": [],
   "source": []
  }
 ],
 "metadata": {
  "kernelspec": {
   "display_name": "Python 2",
   "language": "python",
   "name": "python2"
  },
  "language_info": {
   "codemirror_mode": {
    "name": "ipython",
    "version": 2
   },
   "file_extension": ".py",
   "mimetype": "text/x-python",
   "name": "python",
   "nbconvert_exporter": "python",
   "pygments_lexer": "ipython2",
   "version": "2.7.10"
  }
 },
 "nbformat": 4,
 "nbformat_minor": 0
}
