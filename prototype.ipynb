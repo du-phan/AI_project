{
 "cells": [
  {
   "cell_type": "markdown",
   "metadata": {},
   "source": [
    "### We begin by creating the tree structure.\n"
   ]
  },
  {
   "cell_type": "code",
   "execution_count": 320,
   "metadata": {
    "collapsed": false
   },
   "outputs": [],
   "source": [
    "class TreeNode():\n",
    "    def __init__(self, name):\n",
    "        self.name = name\n",
    "        self.children = {}\n",
    "        self.to_node = {} \n",
    "        self.previous_node = None\n",
    "        \n",
    "    def addChild(self, TreeNode, weight):\n",
    "        self.children[TreeNode] = weight\n",
    "        self.to_node[TreeNode] = [[TreeNode], weight]\n",
    "        \n",
    "    def to_neighbor(self, node):\n",
    "        if node in self.children:\n",
    "            return self.children[node]\n",
    "        else: \n",
    "            return None\n",
    "    \n",
    "    def assign_road_to(self,node,road, distance):\n",
    "        self.to_node[node] = [road, distance]\n",
    "    \n",
    "    def road_to_node(self,node):\n",
    "        if node in self.to_node:\n",
    "            return self.to_node[node]\n",
    "        else:\n",
    "            return None\n",
    "    \n",
    "    def assign_previous_node(self,node):\n",
    "        self.previous_node = node"
   ]
  },
  {
   "cell_type": "code",
   "execution_count": 321,
   "metadata": {
    "collapsed": false
   },
   "outputs": [],
   "source": [
    "A = TreeNode('A')\n",
    "B = TreeNode('B')\n",
    "C = TreeNode('C')\n",
    "D = TreeNode('D')\n",
    "E = TreeNode('E')\n",
    "F = TreeNode('F')\n",
    "G = TreeNode('G')\n",
    "H = TreeNode('H')\n",
    "I = TreeNode('I') \n",
    "J = TreeNode('J')\n",
    "K = TreeNode('K')\n",
    "L = TreeNode('L')\n",
    "M = TreeNode('M')\n",
    "N = TreeNode('N')\n",
    "O = TreeNode('O')\n",
    "P = TreeNode('P')\n",
    "Q = TreeNode('Q')\n",
    "R = TreeNode('R')\n",
    "S = TreeNode('S')\n",
    "T = TreeNode('T')\n",
    "U = TreeNode('U')\n",
    "V = TreeNode('V')\n",
    "W = TreeNode('W')"
   ]
  },
  {
   "cell_type": "code",
   "execution_count": 322,
   "metadata": {
    "collapsed": false
   },
   "outputs": [],
   "source": [
    "A.addChild(B,4)\n",
    "A.addChild(C,5)\n",
    "A.addChild(D,6)\n",
    "\n",
    "B.addChild(A,4)\n",
    "B.addChild(E,5)\n",
    "\n",
    "C.addChild(A,5)\n",
    "C.addChild(D,4)\n",
    "C.addChild(E,6)\n",
    "C.addChild(G,8)\n",
    "\n",
    "D.addChild(A,6)\n",
    "D.addChild(C,4)\n",
    "D.addChild(F,9)\n",
    "\n",
    "E.addChild(B,5)\n",
    "E.addChild(C,6)\n",
    "E.addChild(H,4)\n",
    "\n",
    "F.addChild(D,9)\n",
    "F.addChild(L,9)\n",
    "\n",
    "G.addChild(C,8)\n",
    "G.addChild(H,8)\n",
    "G.addChild(K,8)\n",
    "\n",
    "H.addChild(E,4)\n",
    "H.addChild(G,8)\n",
    "H.addChild(I,2)\n",
    "\n",
    "I.addChild(H,2)\n",
    "I.addChild(J,3)\n",
    "I.addChild(K,4)\n",
    "\n",
    "J.addChild(I,3)\n",
    "\n",
    "K.addChild(G,8)\n",
    "K.addChild(I,4)\n",
    "\n",
    "L.addChild(F,9)\n",
    "L.addChild(M,2)\n",
    "L.addChild(N,4)\n",
    "L.addChild(Q,7)\n",
    "L.addChild(W,10)\n",
    "\n",
    "M.addChild(L,2)\n",
    "\n",
    "N.addChild(L,4)\n",
    "N.addChild(O,7)\n",
    "N.addChild(P,3)\n",
    "\n",
    "O.addChild(N,7)\n",
    "O.addChild(P,3)\n",
    "O.addChild(S,8)\n",
    "\n",
    "P.addChild(N,3)\n",
    "P.addChild(O,3)\n",
    "P.addChild(R,5)\n",
    "\n",
    "Q.addChild(L,7)\n",
    "Q.addChild(R,3)\n",
    "\n",
    "R.addChild(P,5)\n",
    "R.addChild(Q,3)\n",
    "R.addChild(T,6)\n",
    "\n",
    "S.addChild(O,8)\n",
    "S.addChild(U,7)\n",
    "\n",
    "T.addChild(R,6)\n",
    "T.addChild(U,5)\n",
    "\n",
    "U.addChild(S,7)\n",
    "U.addChild(T,5)\n",
    "U.addChild(V,11)\n",
    "\n",
    "V.addChild(U,11)\n",
    "V.addChild(W,6)\n",
    "\n",
    "W.addChild(K,7)\n",
    "W.addChild(L,10)\n",
    "W.addChild(V,6)"
   ]
  },
  {
   "cell_type": "markdown",
   "metadata": {},
   "source": [
    "### NB: this data structure has some redundancies: it stocks both d(A,B) and d(B,A). Furthermore, for a large graph, the computation time will be huge. A matrix-type data structure might be a better choice ? "
   ]
  },
  {
   "cell_type": "code",
   "execution_count": 323,
   "metadata": {
    "collapsed": true
   },
   "outputs": [],
   "source": [
    "streetMap = [A,B,C,D,E,F,G,H,I,J,K,L,M,N,O,P,Q,R,S,T,U,V,W]"
   ]
  },
  {
   "cell_type": "markdown",
   "metadata": {},
   "source": [
    "### Question 1: "
   ]
  },
  {
   "cell_type": "code",
   "execution_count": 324,
   "metadata": {
    "collapsed": false
   },
   "outputs": [],
   "source": [
    "def find_impasse(streetMap): \n",
    "    impasse_list = [node for node in streetMap if len(node.children) == 1]\n",
    "    return impasse_list"
   ]
  },
  {
   "cell_type": "code",
   "execution_count": 325,
   "metadata": {
    "collapsed": false
   },
   "outputs": [
    {
     "name": "stdout",
     "output_type": "stream",
     "text": [
      "J\n",
      "M\n"
     ]
    }
   ],
   "source": [
    "impasse_list = find_impasse(streetMap)\n",
    "for impasse in impasse_list:\n",
    "    print impasse.name"
   ]
  },
  {
   "cell_type": "markdown",
   "metadata": {},
   "source": [
    "### Question 2"
   ]
  },
  {
   "cell_type": "code",
   "execution_count": 326,
   "metadata": {
    "collapsed": true
   },
   "outputs": [],
   "source": [
    "from collections import deque"
   ]
  },
  {
   "cell_type": "code",
   "execution_count": 327,
   "metadata": {
    "collapsed": true
   },
   "outputs": [],
   "source": [
    "def find_min_vertice(dist_vertice):\n",
    "        return min(dist_vertice, key = lambda x: x[1])"
   ]
  },
  {
   "cell_type": "code",
   "execution_count": 328,
   "metadata": {
    "collapsed": true
   },
   "outputs": [],
   "source": [
    "def find_index(node, dist_vertice): \n",
    "    for index,pair in enumerate(dist_vertice): \n",
    "        if node is pair[0]: \n",
    "            return index"
   ]
  },
  {
   "cell_type": "code",
   "execution_count": 329,
   "metadata": {
    "collapsed": false
   },
   "outputs": [],
   "source": [
    "def djisktra(x,y, streetMap):\n",
    "    visited_vertice = deque([])\n",
    "    dist_vertice = deque([])\n",
    "    for vertice in streetMap: \n",
    "        if vertice is x:\n",
    "            dist_vertice.append([vertice,0])\n",
    "        else:\n",
    "            dist_vertice.append([vertice,float('inf')]) #assign initial distance to infinity\n",
    "\n",
    "    while y not in [vertice[0] for vertice in visited_vertice]: # while we havent reached the destination node yet\n",
    "        dist_vertice = deque(sorted(dist_vertice, key = lambda x:x[1]))\n",
    "        current_vertice = dist_vertice.popleft()\n",
    "        visited_vertice.append(current_vertice)\n",
    "        for neighbor in current_vertice[0].children.keys():\n",
    "            index_neighbor = find_index(neighbor,dist_vertice)\n",
    "            if index_neighbor:\n",
    "                neighbor.assign_previous_node(current_vertice[0])\n",
    "                distance_to_neighbor = current_vertice[0].to_neighbor(neighbor)\n",
    "                if dist_vertice[index_neighbor][1] > current_vertice[1] + distance_to_neighbor:\n",
    "                    dist_vertice[index_neighbor][1] = current_vertice[1] + distance_to_neighbor\n",
    "        \n",
    "    road = [visited_vertice[-1][0]]\n",
    "    prev_node = visited_vertice[-1][0].previous_node\n",
    "    while prev_node:\n",
    "        road.append(prev_node)\n",
    "        prev_node = prev_node.previous_node\n",
    "    \n",
    "    print \"Road: \", [r.name for r in road[::-1]]\n",
    "    print \"Distance = \", visited_vertice[-1][1]\n",
    "    \n",
    "    return road[::-1], visited_vertice[-1][1]"
   ]
  },
  {
   "cell_type": "code",
   "execution_count": 330,
   "metadata": {
    "collapsed": false
   },
   "outputs": [
    {
     "name": "stdout",
     "output_type": "stream",
     "text": [
      "Road:  ['A', 'D', 'F', 'L', 'N', 'P', 'O', 'S']\n",
      "Distance =  42\n"
     ]
    },
    {
     "data": {
      "text/plain": [
       "([<__main__.TreeNode instance at 0x00000000041E9448>,\n",
       "  <__main__.TreeNode instance at 0x00000000041E9288>,\n",
       "  <__main__.TreeNode instance at 0x00000000041E9148>,\n",
       "  <__main__.TreeNode instance at 0x0000000004214F48>,\n",
       "  <__main__.TreeNode instance at 0x0000000004214DC8>,\n",
       "  <__main__.TreeNode instance at 0x0000000004214F08>,\n",
       "  <__main__.TreeNode instance at 0x0000000004214E48>,\n",
       "  <__main__.TreeNode instance at 0x0000000004214A88>],\n",
       " 42)"
      ]
     },
     "execution_count": 330,
     "metadata": {},
     "output_type": "execute_result"
    }
   ],
   "source": [
    "djisktra(A,S,streetMap)"
   ]
  },
  {
   "cell_type": "markdown",
   "metadata": {
    "collapsed": true
   },
   "source": [
    "### Question 3: "
   ]
  },
  {
   "cell_type": "code",
   "execution_count": 331,
   "metadata": {
    "collapsed": true
   },
   "outputs": [],
   "source": [
    "from itertools import permutations, combinations "
   ]
  },
  {
   "cell_type": "code",
   "execution_count": 332,
   "metadata": {
    "collapsed": true
   },
   "outputs": [],
   "source": [
    "def name_to_node(name,streetMap):\n",
    "    for node in streetMap:\n",
    "        if node.name == name:\n",
    "            return node\n",
    "    return None"
   ]
  },
  {
   "cell_type": "code",
   "execution_count": 333,
   "metadata": {
    "collapsed": false
   },
   "outputs": [],
   "source": [
    "def djisktra_list(passing_point_name, streetMap):\n",
    "    passing_node_list = [name_to_node(name, streetMap) for name in passing_point_name]\n",
    "    for x,y in combinations(passing_node_list,2):\n",
    "        print 1\n",
    "        road, distance = djisktra(x,y,streetMap)\n",
    "        x.assign_road_to(y,road, distance)\n",
    "        y.assign_road_to(x,road, distance)\n",
    "    \n",
    "    shortest_distance = float('inf')\n",
    "    shortest_road = []\n",
    "    for passing_node in [permutations(passing_node_list[1:-1])]: # omit start and end node\n",
    "        print 2\n",
    "        testing_road = passing_node_list[0:1] + list(passing_node) + passing_node_list[-1:] \n",
    "        distance_list = [testing_road[x].to_node[testing_road[x+1]][1] for x in xrange(len(testing_road)-1)]\n",
    "        shortest = min(shortest,sum(distance_list))\n",
    "    return shortest\n",
    "    \n",
    "        \n",
    "        "
   ]
  },
  {
   "cell_type": "code",
   "execution_count": null,
   "metadata": {
    "collapsed": true
   },
   "outputs": [],
   "source": []
  },
  {
   "cell_type": "code",
   "execution_count": null,
   "metadata": {
    "collapsed": false
   },
   "outputs": [],
   "source": [
    "djisktra_list(['A','B','A'],streetMap)"
   ]
  },
  {
   "cell_type": "code",
   "execution_count": null,
   "metadata": {
    "collapsed": true
   },
   "outputs": [],
   "source": []
  },
  {
   "cell_type": "code",
   "execution_count": null,
   "metadata": {
    "collapsed": true
   },
   "outputs": [],
   "source": []
  },
  {
   "cell_type": "code",
   "execution_count": 334,
   "metadata": {
    "collapsed": false
   },
   "outputs": [
    {
     "data": {
      "text/plain": [
       "<itertools.combinations at 0x41f5a98>"
      ]
     },
     "execution_count": 334,
     "metadata": {},
     "output_type": "execute_result"
    }
   ],
   "source": [
    "lst = ['a','b','c']\n",
    "combinations(lst,2)"
   ]
  },
  {
   "cell_type": "code",
   "execution_count": 335,
   "metadata": {
    "collapsed": false
   },
   "outputs": [
    {
     "name": "stdout",
     "output_type": "stream",
     "text": [
      "['a', 'b']\n",
      "['a', 'c']\n",
      "['b', 'a']\n",
      "['b', 'c']\n",
      "['c', 'a']\n",
      "['c', 'b']\n"
     ]
    }
   ],
   "source": [
    "for x,y in permutations(lst,2):\n",
    "    print [x,y] "
   ]
  },
  {
   "cell_type": "code",
   "execution_count": 336,
   "metadata": {
    "collapsed": false
   },
   "outputs": [
    {
     "name": "stdout",
     "output_type": "stream",
     "text": [
      "Road:  ['A', 'C', 'G', 'K']\n",
      "Distance =  21\n"
     ]
    }
   ],
   "source": [
    "road = djisktra(A,K,streetMap)"
   ]
  },
  {
   "cell_type": "code",
   "execution_count": 337,
   "metadata": {
    "collapsed": false
   },
   "outputs": [
    {
     "ename": "TypeError",
     "evalue": "assign_road_to() takes exactly 4 arguments (3 given)",
     "output_type": "error",
     "traceback": [
      "\u001b[1;31m---------------------------------------------------------------------------\u001b[0m",
      "\u001b[1;31mTypeError\u001b[0m                                 Traceback (most recent call last)",
      "\u001b[1;32m<ipython-input-337-77b2642dc1f6>\u001b[0m in \u001b[0;36m<module>\u001b[1;34m()\u001b[0m\n\u001b[1;32m----> 1\u001b[1;33m \u001b[0mA\u001b[0m\u001b[1;33m.\u001b[0m\u001b[0massign_road_to\u001b[0m\u001b[1;33m(\u001b[0m\u001b[0mK\u001b[0m\u001b[1;33m,\u001b[0m\u001b[0mroad\u001b[0m\u001b[1;33m)\u001b[0m\u001b[1;33m\u001b[0m\u001b[0m\n\u001b[0m",
      "\u001b[1;31mTypeError\u001b[0m: assign_road_to() takes exactly 4 arguments (3 given)"
     ]
    }
   ],
   "source": [
    "A.assign_road_to(K,road)"
   ]
  },
  {
   "cell_type": "code",
   "execution_count": null,
   "metadata": {
    "collapsed": false
   },
   "outputs": [],
   "source": [
    "[x.name for x in A.road_to_node(K)]"
   ]
  },
  {
   "cell_type": "code",
   "execution_count": null,
   "metadata": {
    "collapsed": false
   },
   "outputs": [],
   "source": [
    "combinations(l)"
   ]
  },
  {
   "cell_type": "code",
   "execution_count": null,
   "metadata": {
    "collapsed": false
   },
   "outputs": [],
   "source": [
    "for x in permutations(lst):\n",
    "    x = ['D']+list(x)+['D']\n",
    "    print x"
   ]
  },
  {
   "cell_type": "code",
   "execution_count": null,
   "metadata": {
    "collapsed": false
   },
   "outputs": [],
   "source": [
    "l = [A,B,E,C]"
   ]
  },
  {
   "cell_type": "code",
   "execution_count": null,
   "metadata": {
    "collapsed": false
   },
   "outputs": [],
   "source": [
    "A.to_node"
   ]
  },
  {
   "cell_type": "code",
   "execution_count": null,
   "metadata": {
    "collapsed": false
   },
   "outputs": [],
   "source": [
    "r,d = djisktra(A,K,streetMap)"
   ]
  },
  {
   "cell_type": "code",
   "execution_count": null,
   "metadata": {
    "collapsed": true
   },
   "outputs": [],
   "source": [
    "A.assign_road_to(K,r,d)"
   ]
  },
  {
   "cell_type": "code",
   "execution_count": null,
   "metadata": {
    "collapsed": false
   },
   "outputs": [],
   "source": [
    "A.to_node"
   ]
  },
  {
   "cell_type": "code",
   "execution_count": null,
   "metadata": {
    "collapsed": false
   },
   "outputs": [],
   "source": [
    "d_list = [l[x].to_node[l[x+1]][1] for x in xrange(len(l)-1)]"
   ]
  },
  {
   "cell_type": "code",
   "execution_count": null,
   "metadata": {
    "collapsed": false
   },
   "outputs": [],
   "source": [
    "d_list"
   ]
  },
  {
   "cell_type": "code",
   "execution_count": null,
   "metadata": {
    "collapsed": true
   },
   "outputs": [],
   "source": []
  },
  {
   "cell_type": "code",
   "execution_count": null,
   "metadata": {
    "collapsed": true
   },
   "outputs": [],
   "source": []
  },
  {
   "cell_type": "code",
   "execution_count": null,
   "metadata": {
    "collapsed": true
   },
   "outputs": [],
   "source": []
  },
  {
   "cell_type": "code",
   "execution_count": null,
   "metadata": {
    "collapsed": true
   },
   "outputs": [],
   "source": []
  },
  {
   "cell_type": "code",
   "execution_count": null,
   "metadata": {
    "collapsed": true
   },
   "outputs": [],
   "source": []
  },
  {
   "cell_type": "code",
   "execution_count": null,
   "metadata": {
    "collapsed": true
   },
   "outputs": [],
   "source": []
  }
 ],
 "metadata": {
  "kernelspec": {
   "display_name": "Python 2",
   "language": "python",
   "name": "python2"
  },
  "language_info": {
   "codemirror_mode": {
    "name": "ipython",
    "version": 2
   },
   "file_extension": ".py",
   "mimetype": "text/x-python",
   "name": "python",
   "nbconvert_exporter": "python",
   "pygments_lexer": "ipython2",
   "version": "2.7.10"
  }
 },
 "nbformat": 4,
 "nbformat_minor": 0
}
