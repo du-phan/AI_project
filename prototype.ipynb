{
 "cells": [
  {
   "cell_type": "markdown",
   "metadata": {},
   "source": [
    "### We begin by creating the tree structure.\n"
   ]
  },
  {
   "cell_type": "code",
   "execution_count": 1,
   "metadata": {
    "collapsed": false
   },
   "outputs": [],
   "source": [
    "class TreeNode():\n",
    "    def __init__(self, name):\n",
    "        self.name = name\n",
    "        self.children = {}\n",
    "        self.to_node = {} \n",
    "        self.previous_node = None\n",
    "        \n",
    "    def addChild(self, TreeNode, weight):\n",
    "        self.children[TreeNode] = weight\n",
    "        self.to_node[TreeNode] = [[TreeNode], weight]\n",
    "        \n",
    "    def to_neighbor(self, node):\n",
    "        if node in self.children:\n",
    "            return self.children[node]\n",
    "        else: \n",
    "            return None\n",
    "    \n",
    "    def assign_road_to(self,node,road, distance):\n",
    "        self.to_node[node] = [road, distance]\n",
    "    \n",
    "    def road_to_node(self,node):\n",
    "        if node in self.to_node:\n",
    "            return self.to_node[node]\n",
    "        else:\n",
    "            return None\n",
    "    \n",
    "    def assign_previous_node(self,node):\n",
    "        self.previous_node = node"
   ]
  },
  {
   "cell_type": "code",
   "execution_count": 2,
   "metadata": {
    "collapsed": false
   },
   "outputs": [],
   "source": [
    "A = TreeNode('A')\n",
    "B = TreeNode('B')\n",
    "C = TreeNode('C')\n",
    "D = TreeNode('D')\n",
    "E = TreeNode('E')\n",
    "F = TreeNode('F')\n",
    "G = TreeNode('G')\n",
    "H = TreeNode('H')\n",
    "I = TreeNode('I') \n",
    "J = TreeNode('J')\n",
    "K = TreeNode('K')\n",
    "L = TreeNode('L')\n",
    "M = TreeNode('M')\n",
    "N = TreeNode('N')\n",
    "O = TreeNode('O')\n",
    "P = TreeNode('P')\n",
    "Q = TreeNode('Q')\n",
    "R = TreeNode('R')\n",
    "S = TreeNode('S')\n",
    "T = TreeNode('T')\n",
    "U = TreeNode('U')\n",
    "V = TreeNode('V')\n",
    "W = TreeNode('W')"
   ]
  },
  {
   "cell_type": "code",
   "execution_count": 3,
   "metadata": {
    "collapsed": false
   },
   "outputs": [],
   "source": [
    "A.addChild(B,4)\n",
    "A.addChild(C,5)\n",
    "A.addChild(D,6)\n",
    "\n",
    "B.addChild(A,4)\n",
    "B.addChild(E,5)\n",
    "\n",
    "C.addChild(A,5)\n",
    "C.addChild(D,4)\n",
    "C.addChild(E,6)\n",
    "C.addChild(G,8)\n",
    "\n",
    "D.addChild(A,6)\n",
    "D.addChild(C,4)\n",
    "D.addChild(F,9)\n",
    "\n",
    "E.addChild(B,5)\n",
    "E.addChild(C,6)\n",
    "E.addChild(H,4)\n",
    "\n",
    "F.addChild(D,9)\n",
    "F.addChild(L,9)\n",
    "\n",
    "G.addChild(C,8)\n",
    "G.addChild(H,8)\n",
    "G.addChild(K,8)\n",
    "\n",
    "H.addChild(E,4)\n",
    "H.addChild(G,8)\n",
    "H.addChild(I,2)\n",
    "\n",
    "I.addChild(H,2)\n",
    "I.addChild(J,3)\n",
    "I.addChild(K,4)\n",
    "\n",
    "J.addChild(I,3)\n",
    "\n",
    "K.addChild(G,8)\n",
    "K.addChild(I,4)\n",
    "K.addChild(W,7)\n",
    "\n",
    "L.addChild(F,9)\n",
    "L.addChild(M,2)\n",
    "L.addChild(N,4)\n",
    "L.addChild(Q,7)\n",
    "L.addChild(W,10)\n",
    "\n",
    "M.addChild(L,2)\n",
    "\n",
    "N.addChild(L,4)\n",
    "N.addChild(O,7)\n",
    "N.addChild(P,3)\n",
    "\n",
    "O.addChild(N,7)\n",
    "O.addChild(P,3)\n",
    "O.addChild(S,8)\n",
    "\n",
    "P.addChild(N,3)\n",
    "P.addChild(O,3)\n",
    "P.addChild(R,5)\n",
    "\n",
    "Q.addChild(L,7)\n",
    "Q.addChild(R,3)\n",
    "\n",
    "R.addChild(P,5)\n",
    "R.addChild(Q,3)\n",
    "R.addChild(T,6)\n",
    "\n",
    "S.addChild(O,8)\n",
    "S.addChild(U,7)\n",
    "\n",
    "T.addChild(R,6)\n",
    "T.addChild(U,5)\n",
    "\n",
    "U.addChild(S,7)\n",
    "U.addChild(T,5)\n",
    "U.addChild(V,11)\n",
    "\n",
    "V.addChild(U,11)\n",
    "V.addChild(W,6)\n",
    "\n",
    "W.addChild(K,7)\n",
    "W.addChild(L,10)\n",
    "W.addChild(V,6)"
   ]
  },
  {
   "cell_type": "markdown",
   "metadata": {},
   "source": [
    "### NB: this data structure has some redundancies: it stocks both d(A,B) and d(B,A). Furthermore, for a large graph, the computation time will be huge. A matrix-type data structure might be a better choice ? "
   ]
  },
  {
   "cell_type": "code",
   "execution_count": 4,
   "metadata": {
    "collapsed": true
   },
   "outputs": [],
   "source": [
    "streetMap = [A,B,C,D,E,F,G,H,I,J,K,L,M,N,O,P,Q,R,S,T,U,V,W]"
   ]
  },
  {
   "cell_type": "markdown",
   "metadata": {},
   "source": [
    "## Question 1: "
   ]
  },
  {
   "cell_type": "code",
   "execution_count": 5,
   "metadata": {
    "collapsed": false
   },
   "outputs": [],
   "source": [
    "def find_impasse(streetMap): \n",
    "    impasse_list = [node for node in streetMap if len(node.children) == 1]\n",
    "    return impasse_list"
   ]
  },
  {
   "cell_type": "code",
   "execution_count": 6,
   "metadata": {
    "collapsed": false
   },
   "outputs": [],
   "source": [
    "def question1(streetMap):\n",
    "    impasse_list = find_impasse(streetMap)\n",
    "    for impasse in impasse_list:\n",
    "        print impasse.name"
   ]
  },
  {
   "cell_type": "code",
   "execution_count": 7,
   "metadata": {
    "collapsed": false
   },
   "outputs": [
    {
     "name": "stdout",
     "output_type": "stream",
     "text": [
      "J\n",
      "M\n"
     ]
    }
   ],
   "source": [
    "question1(streetMap)"
   ]
  },
  {
   "cell_type": "markdown",
   "metadata": {},
   "source": [
    "## Question 2"
   ]
  },
  {
   "cell_type": "markdown",
   "metadata": {},
   "source": [
    "#### Find the shortest path between 2 nodes. Here we implement a basic version of Djisktra algorithm."
   ]
  },
  {
   "cell_type": "code",
   "execution_count": 37,
   "metadata": {
    "collapsed": true
   },
   "outputs": [],
   "source": [
    "from collections import deque"
   ]
  },
  {
   "cell_type": "code",
   "execution_count": 38,
   "metadata": {
    "collapsed": true
   },
   "outputs": [],
   "source": [
    "def find_min_vertice(dist_vertice):\n",
    "        return min(dist_vertice, key = lambda x: x[1])"
   ]
  },
  {
   "cell_type": "code",
   "execution_count": 39,
   "metadata": {
    "collapsed": true
   },
   "outputs": [],
   "source": [
    "def find_index(node, dist_vertice): \n",
    "    for index,pair in enumerate(dist_vertice): \n",
    "        if node == pair[0]: \n",
    "            return index\n",
    "    return -1"
   ]
  },
  {
   "cell_type": "code",
   "execution_count": 40,
   "metadata": {
    "collapsed": false
   },
   "outputs": [
    {
     "data": {
      "text/plain": [
       "0"
      ]
     },
     "execution_count": 40,
     "metadata": {},
     "output_type": "execute_result"
    }
   ],
   "source": [
    "s = [[A,1],[B,2],[C,5],[D,12],[E,9]]\n",
    "find_index(A,s)"
   ]
  },
  {
   "cell_type": "code",
   "execution_count": 41,
   "metadata": {
    "collapsed": false
   },
   "outputs": [],
   "source": [
    "def djisktra(x,y, streetMap):\n",
    "    \n",
    "        \n",
    "    for node in streetMap: \n",
    "        node.previous_node = None # revert the objects back to their initial state\n",
    "    \n",
    "    \n",
    "    visited_vertice = deque([])\n",
    "    dist_vertice = deque([])\n",
    "    for vertice in streetMap: \n",
    "        if vertice is x:\n",
    "            dist_vertice.append([vertice,0])\n",
    "        else:\n",
    "            dist_vertice.append([vertice,float('inf')]) #assign initial distance to infinity\n",
    "\n",
    "    while y not in [vertice[0] for vertice in visited_vertice]: # while we havent reached the destination node yet\n",
    "        dist_vertice = deque(sorted(dist_vertice, key = lambda x:x[1]))\n",
    "        current_vertice = dist_vertice.popleft()\n",
    "        visited_vertice.append(current_vertice)\n",
    "        for neighbor in current_vertice[0].children.keys():  \n",
    "            index_neighbor = find_index(neighbor,dist_vertice)\n",
    "            if index_neighbor >= 0:\n",
    "                neighbor.assign_previous_node(current_vertice[0])\n",
    "                distance_to_neighbor = current_vertice[0].to_neighbor(neighbor)\n",
    "                if dist_vertice[index_neighbor][1] > current_vertice[1] + distance_to_neighbor:\n",
    "                    dist_vertice[index_neighbor][1] = current_vertice[1] + distance_to_neighbor\n",
    "    \n",
    "    road = []\n",
    "    prev_node = None \n",
    "\n",
    "\n",
    "    road = [visited_vertice[-1][0]]\n",
    "    prev_node = visited_vertice[-1][0].previous_node\n",
    "    while prev_node:\n",
    "        road.append(prev_node)\n",
    "        prev_node = prev_node.previous_node\n",
    "\n",
    "    return road[::-1], visited_vertice"
   ]
  },
  {
   "cell_type": "code",
   "execution_count": 42,
   "metadata": {
    "collapsed": true
   },
   "outputs": [],
   "source": [
    "def question2(start,end,streetMap):\n",
    "    road, visited_vertice = djisktra(start,end,streetMap)\n",
    "    print \"Road: \", [r.name for r in road]\n",
    "    print \"Distance = \", visited_vertice[-1][1]"
   ]
  },
  {
   "cell_type": "code",
   "execution_count": 43,
   "metadata": {
    "collapsed": false
   },
   "outputs": [
    {
     "name": "stdout",
     "output_type": "stream",
     "text": [
      "Road:  ['D', 'F', 'L', 'N', 'P', 'O', 'S', 'U']\n",
      "Distance =  39\n"
     ]
    }
   ],
   "source": [
    "question2(D,U,streetMap)"
   ]
  },
  {
   "cell_type": "markdown",
   "metadata": {
    "collapsed": true
   },
   "source": [
    "## Question 3: "
   ]
  },
  {
   "cell_type": "markdown",
   "metadata": {},
   "source": [
    "#### This is a modified version of the classical Travelling Salesman. We need to find the shortest path which visits a certain predefined nodes. \n",
    "#### Here as the number of nodes is not large, we can use a brute force method. First, we compute the shortest path between any 2 nodes in our problem. Then we will test all the combination of these nodes to find the minimum value. "
   ]
  },
  {
   "cell_type": "code",
   "execution_count": 44,
   "metadata": {
    "collapsed": true
   },
   "outputs": [],
   "source": [
    "from itertools import permutations, combinations "
   ]
  },
  {
   "cell_type": "code",
   "execution_count": 45,
   "metadata": {
    "collapsed": true
   },
   "outputs": [],
   "source": [
    "def name_to_node(name,streetMap):\n",
    "    for node in streetMap:\n",
    "        if node.name == name:\n",
    "            return node\n",
    "    return None"
   ]
  },
  {
   "cell_type": "code",
   "execution_count": 46,
   "metadata": {
    "collapsed": false
   },
   "outputs": [],
   "source": [
    "def shortest_path_passing_point(passing_point_name, streetMap):\n",
    "    passing_node_list = [name_to_node(name, streetMap) for name in passing_point_name]\n",
    "    for x,y in combinations(set(passing_node_list),2):\n",
    "        road, distance = djisktra(x,y,streetMap)\n",
    "        x.assign_road_to(y,road, distance[-1][1])\n",
    "        y.assign_road_to(x,road[::-1], distance[-1][1])\n",
    "    shortest_distance = float('inf')\n",
    "    shortest_road = []\n",
    "    for passing_node in permutations(passing_node_list[1:-1]): # omit start and end node\n",
    "        testing_road = passing_node_list[0:1] + list(passing_node) + passing_node_list[-1:] \n",
    "        distance_list = [testing_road[x].to_node[testing_road[x+1]][1] for x in xrange(len(testing_road)-1)]\n",
    "        if shortest_distance > sum(distance_list):\n",
    "            shortest_distance = sum(distance_list)\n",
    "            shortest_road = testing_road\n",
    "    return shortest_road, shortest_distance    "
   ]
  },
  {
   "cell_type": "code",
   "execution_count": 47,
   "metadata": {
    "collapsed": false
   },
   "outputs": [],
   "source": [
    "def question3(path, streetMap):\n",
    "    passing_point_name = []\n",
    "    passing_point_name.extend(path)\n",
    "    shortest_road, shortest_distance = shortest_path_passing_point(passing_point_name, streetMap)\n",
    "    full_path = []\n",
    "    for x in xrange(len(shortest_road)-1):\n",
    "        path = shortest_road[x].to_node[shortest_road[x+1]][0][:-1]\n",
    "        full_path.extend(path)\n",
    "    full_path.append(full_path[0])\n",
    "    print [p.name for p in full_path]\n",
    "    print 'Distance: ', shortest_distance"
   ]
  },
  {
   "cell_type": "code",
   "execution_count": 48,
   "metadata": {
    "collapsed": false
   },
   "outputs": [
    {
     "name": "stdout",
     "output_type": "stream",
     "text": [
      "['A', 'B', 'E', 'H', 'G', 'C', 'A']\n",
      "Distance:  34\n"
     ]
    }
   ],
   "source": [
    "question3('ABGHA', streetMap)"
   ]
  },
  {
   "cell_type": "markdown",
   "metadata": {
    "collapsed": true
   },
   "source": [
    "## Question 4"
   ]
  },
  {
   "cell_type": "markdown",
   "metadata": {
    "collapsed": true
   },
   "source": [
    "#### In this question, we have another constraint: after 4 destinations, we need to go back to the starting point (for recharge, ...). \n",
    "#### The first idea is to improve our solution in question 3. Concretely, we will try all the combinations possible given that the (5n+1)th node is always the starting node."
   ]
  },
  {
   "cell_type": "code",
   "execution_count": 137,
   "metadata": {
    "collapsed": true
   },
   "outputs": [],
   "source": [
    "def shortest_path_limited_passing_point(passing_point_name, streetMap, limit_number=4):\n",
    "    passing_node_list = [name_to_node(name, streetMap) for name in passing_point_name]\n",
    "    for x,y in combinations(set(passing_node_list),2):\n",
    "        road, distance = djisktra(x,y,streetMap)\n",
    "        x.assign_road_to(y,road, distance[-1][1])\n",
    "        y.assign_road_to(x,road[::-1], distance[-1][1])\n",
    "    shortest_distance = float('inf')\n",
    "    shortest_road = []\n",
    "    for passing_node in permutations(passing_node_list[1:-1]): # omit start and end node\n",
    "        testing_road = list(passing_node)\n",
    "        insert_index = 0\n",
    "        while insert_index < len(passing_node_list)-1:\n",
    "            testing_road.insert(insert_index,passing_node_list[0])\n",
    "            #print 'HELLOOOOO'\n",
    "            #print [v.name for v in testing_road]\n",
    "            insert_index += limit_number+1\n",
    "        testing_road.append(passing_node_list[0])\n",
    "        #print [v.name for v in testing_road]\n",
    "        distance_list = [testing_road[x].to_node[testing_road[x+1]][1] for x in xrange(len(testing_road)-1)]\n",
    "        if shortest_distance > sum(distance_list):\n",
    "            shortest_distance = sum(distance_list)\n",
    "            shortest_road = testing_road\n",
    "    return shortest_road, shortest_distance    "
   ]
  },
  {
   "cell_type": "code",
   "execution_count": 144,
   "metadata": {
    "collapsed": true
   },
   "outputs": [],
   "source": [
    "def question4(path, streetMap, limit_number = 4):\n",
    "    passing_point_name = []\n",
    "    passing_point_name.extend(path)\n",
    "    shortest_road, shortest_distance = shortest_path_limited_passing_point(passing_point_name, streetMap, limit_number=4)\n",
    "    full_path = []\n",
    "    for x in xrange(len(shortest_road)-1):\n",
    "        path = shortest_road[x].to_node[shortest_road[x+1]][0]# [:-1]\n",
    "        print [p.name for p in path]\n",
    "        full_path.extend(path)\n",
    "    full_path.append(full_path[0])\n",
    "    #print [p.name for p in full_path]\n",
    "    print 'Distance: ', shortest_distance"
   ]
  },
  {
   "cell_type": "code",
   "execution_count": 146,
   "metadata": {
    "collapsed": false
   },
   "outputs": [
    {
     "name": "stdout",
     "output_type": "stream",
     "text": [
      "['A', 'B']\n",
      "['B', 'A', 'C', 'G', 'H', 'I', 'K', 'W', 'L', 'N', 'P', 'O', 'S']\n",
      "['S', 'O', 'P', 'N', 'L', 'F', 'D', 'C', 'A']\n",
      "Distance:  92\n"
     ]
    }
   ],
   "source": [
    "question4('ABSA',streetMap)"
   ]
  },
  {
   "cell_type": "code",
   "execution_count": null,
   "metadata": {
    "collapsed": true
   },
   "outputs": [],
   "source": []
  },
  {
   "cell_type": "code",
   "execution_count": null,
   "metadata": {
    "collapsed": true
   },
   "outputs": [],
   "source": []
  },
  {
   "cell_type": "code",
   "execution_count": null,
   "metadata": {
    "collapsed": true
   },
   "outputs": [],
   "source": []
  },
  {
   "cell_type": "code",
   "execution_count": null,
   "metadata": {
    "collapsed": true
   },
   "outputs": [],
   "source": []
  },
  {
   "cell_type": "code",
   "execution_count": null,
   "metadata": {
    "collapsed": true
   },
   "outputs": [],
   "source": []
  },
  {
   "cell_type": "code",
   "execution_count": null,
   "metadata": {
    "collapsed": true
   },
   "outputs": [],
   "source": []
  },
  {
   "cell_type": "code",
   "execution_count": null,
   "metadata": {
    "collapsed": true
   },
   "outputs": [],
   "source": []
  },
  {
   "cell_type": "code",
   "execution_count": null,
   "metadata": {
    "collapsed": true
   },
   "outputs": [],
   "source": []
  },
  {
   "cell_type": "code",
   "execution_count": null,
   "metadata": {
    "collapsed": true
   },
   "outputs": [],
   "source": []
  },
  {
   "cell_type": "code",
   "execution_count": null,
   "metadata": {
    "collapsed": true
   },
   "outputs": [],
   "source": []
  },
  {
   "cell_type": "code",
   "execution_count": null,
   "metadata": {
    "collapsed": true
   },
   "outputs": [],
   "source": []
  },
  {
   "cell_type": "code",
   "execution_count": null,
   "metadata": {
    "collapsed": true
   },
   "outputs": [],
   "source": []
  }
 ],
 "metadata": {
  "kernelspec": {
   "display_name": "Python 2",
   "language": "python",
   "name": "python2"
  },
  "language_info": {
   "codemirror_mode": {
    "name": "ipython",
    "version": 2
   },
   "file_extension": ".py",
   "mimetype": "text/x-python",
   "name": "python",
   "nbconvert_exporter": "python",
   "pygments_lexer": "ipython2",
   "version": "2.7.10"
  }
 },
 "nbformat": 4,
 "nbformat_minor": 0
}
