{
 "cells": [
  {
   "cell_type": "code",
   "execution_count": 838,
   "metadata": {
    "collapsed": false
   },
   "outputs": [
    {
     "ename": "ImportError",
     "evalue": "No module named Pillow",
     "output_type": "error",
     "traceback": [
      "\u001b[1;31m---------------------------------------------------------------------------\u001b[0m",
      "\u001b[1;31mImportError\u001b[0m                               Traceback (most recent call last)",
      "\u001b[1;32m<ipython-input-838-148155ca3a1b>\u001b[0m in \u001b[0;36m<module>\u001b[1;34m()\u001b[0m\n\u001b[0;32m      4\u001b[0m \u001b[1;32mimport\u001b[0m \u001b[0mmatplotlib\u001b[0m\u001b[1;33m.\u001b[0m\u001b[0mimage\u001b[0m \u001b[1;32mas\u001b[0m \u001b[0mmpimg\u001b[0m\u001b[1;33m\u001b[0m\u001b[0m\n\u001b[0;32m      5\u001b[0m \u001b[1;32mimport\u001b[0m \u001b[0mmath\u001b[0m\u001b[1;33m\u001b[0m\u001b[0m\n\u001b[1;32m----> 6\u001b[1;33m \u001b[1;32mimport\u001b[0m \u001b[0mPillow\u001b[0m\u001b[1;33m\u001b[0m\u001b[0m\n\u001b[0m\u001b[0;32m      7\u001b[0m \u001b[0mget_ipython\u001b[0m\u001b[1;33m(\u001b[0m\u001b[1;33m)\u001b[0m\u001b[1;33m.\u001b[0m\u001b[0mmagic\u001b[0m\u001b[1;33m(\u001b[0m\u001b[1;34mu'matplotlib inline'\u001b[0m\u001b[1;33m)\u001b[0m\u001b[1;33m\u001b[0m\u001b[0m\n",
      "\u001b[1;31mImportError\u001b[0m: No module named Pillow"
     ]
    }
   ],
   "source": [
    "import numpy as np \n",
    "import pandas as pd\n",
    "import matplotlib.pyplot as plt\n",
    "import matplotlib.image as mpimg\n",
    "import math\n",
    "import Pillow\n",
    "%matplotlib inline"
   ]
  },
  {
   "cell_type": "code",
   "execution_count": 774,
   "metadata": {
    "collapsed": false
   },
   "outputs": [],
   "source": [
    "class Network(object):\n",
    "    \n",
    "    def __init__(self, layer_node): #layer_node is a list contains the number of nodes in each layer\n",
    "        self.num_layer = len(layer_node)\n",
    "        self.layer_node = layer_node\n",
    "        self.input_node = []\n",
    "        #self.node = [ np.random.randn(num_node,1) for num_node in layer_node ]\n",
    "        self.weights = [ np.random.randn(next_node,previous_node+1) for next_node, previous_node in zip(layer_node[1:],layer_node[:-1]) ]\n",
    "        \n",
    "    def add_input_node(self,input_vector): #must be of size (n,1)\n",
    "        if len(input_vector) == self.layer_node[0]: \n",
    "            self.input_node = np.append([[1]],input_vector, axis=0) # add bias node\n",
    "        else:\n",
    "            print \"Input vector length invalid: given len {1}, need len {0}\".format(self.layer_node[0], len(input_vector))\n",
    "            \n",
    "    def forward_propagation(self):\n",
    "        output_vector = self.input_node\n",
    "        for weight in self.weights: \n",
    "            #print weight.shape\n",
    "            #print output_vector.shape\n",
    "            s = np.dot(weight, output_vector)\n",
    "            output_vector = np.append([[1]], output_transformation(s), axis=0) # add bias node -> size (n+1,1)\n",
    "        return output_vector[1:] # we omit the bias node \n",
    "        \n",
    "    def backpropagation(self,input_vector, output_vector):\n",
    "        s = [] # vector before entering node\n",
    "        x = [np.append([[1]],input_vector, axis=0)] # vector after entering node\n",
    "        sensitivity = [ np.zeros([1,i]) for i in self.layer_node[1:] ]\n",
    "        #print len(sensitivity)\n",
    "        \n",
    "        #feedforward, save all the node coefs of each layer\n",
    "        for weight in self.weights:\n",
    "            s.append(np.dot(weight, x[-1]))\n",
    "            x.append(np.append([[1]], output_transformation(s[-1]), axis=0))\n",
    "            \n",
    "        sensitivity[-1] = 2*(x[-1][1:] - output_vector) # omit the bias node \n",
    "        \n",
    "        #backpropagation, compute sensitivity backward\n",
    "        for layer_index in xrange(2, self.num_layer):\n",
    "            w = self.weights[-layer_index+1]\n",
    "            #print w\n",
    "            #print w.shape\n",
    "            #print sensitivity[-layer_index+1].shape\n",
    "            \n",
    "            sensitivity[-layer_index] = (np.dot(w.T,sensitivity[-layer_index+1]))[1:] #excluding the bias componnent which has the index 0\n",
    "            \n",
    "        return x, sensitivity\n",
    "    \n",
    "    def SGD(self, training_data, testing_data, eta, epochs): #stochastic gradient descent\n",
    "        MSE_list = []\n",
    "        for epoch in xrange(epochs): \n",
    "            MSE = 0 \n",
    "            for index, row in training_data.iterrows():\n",
    "                vector = np.array(row).reshape(3,1) \n",
    "                input_vector, output_vector = vector[:2], vector[2:]\n",
    "                x, sensitivity = self.backpropagation(input_vector, output_vector)\n",
    "                gradient = [ np.random.randn(next_node,previous_node+1) \n",
    "                            for next_node, previous_node in zip(self.layer_node[1:],self.layer_node[:-1])]\n",
    "                for l in xrange(len(gradient)):\n",
    "                    #print x[l].shape\n",
    "                    #print sensitivity[l].shape\n",
    "                    gradient[l] = np.dot(sensitivity[l],np.transpose(x[l]))\n",
    "                    self.weights[l] = self.weights[l] - eta*gradient[l]\n",
    "            MSE = self.evaluate(testing_data)\n",
    "            MSE_list.append(MSE)\n",
    "            print \"Epoch {0}: MSE = {1}\".format(epoch+1, MSE)\n",
    "            #print\n",
    "        return MSE_list\n",
    "    \n",
    "    def evaluate(self,testing_data):\n",
    "        MSE = 0\n",
    "        for index, row in testing_data.iterrows():\n",
    "            vector = np.array(row).reshape(3,1) \n",
    "            input_vector, output_vector = vector[:2], vector[2:]\n",
    "            self.add_input_node(input_vector)\n",
    "            predicted_vector = self.forward_propagation()\n",
    "            #print predicted_vector, output_vector\n",
    "            MSE += np.abs(predicted_vector - output_vector)\n",
    "        return MSE[0][0]/testing_data.shape[0]\n",
    "\n",
    "            "
   ]
  },
  {
   "cell_type": "code",
   "execution_count": 775,
   "metadata": {
    "collapsed": true
   },
   "outputs": [],
   "source": [
    "def output_transformation(z):\n",
    "    return z # linear regression -> identity function"
   ]
  },
  {
   "cell_type": "code",
   "execution_count": null,
   "metadata": {
    "collapsed": true
   },
   "outputs": [],
   "source": []
  },
  {
   "cell_type": "code",
   "execution_count": 776,
   "metadata": {
    "collapsed": true
   },
   "outputs": [],
   "source": [
    "data = pd.read_csv('donneespb3.txt', sep=' ', header=None)"
   ]
  },
  {
   "cell_type": "code",
   "execution_count": 777,
   "metadata": {
    "collapsed": false
   },
   "outputs": [],
   "source": [
    "data.columns = ['x','y','z']"
   ]
  },
  {
   "cell_type": "code",
   "execution_count": 778,
   "metadata": {
    "collapsed": false
   },
   "outputs": [
    {
     "data": {
      "text/html": [
       "<div>\n",
       "<table border=\"1\" class=\"dataframe\">\n",
       "  <thead>\n",
       "    <tr style=\"text-align: right;\">\n",
       "      <th></th>\n",
       "      <th>x</th>\n",
       "      <th>y</th>\n",
       "      <th>z</th>\n",
       "    </tr>\n",
       "  </thead>\n",
       "  <tbody>\n",
       "    <tr>\n",
       "      <th>0</th>\n",
       "      <td>334,783210575014</td>\n",
       "      <td>454,948964740592</td>\n",
       "      <td>0,00222160492674384</td>\n",
       "    </tr>\n",
       "    <tr>\n",
       "      <th>1</th>\n",
       "      <td>111,777755949543</td>\n",
       "      <td>258,571017886778</td>\n",
       "      <td>0,799073240401644</td>\n",
       "    </tr>\n",
       "    <tr>\n",
       "      <th>2</th>\n",
       "      <td>267,262460555538</td>\n",
       "      <td>378,948263069125</td>\n",
       "      <td>0,609963894856347</td>\n",
       "    </tr>\n",
       "    <tr>\n",
       "      <th>3</th>\n",
       "      <td>237,746752443605</td>\n",
       "      <td>39,6912645267748</td>\n",
       "      <td>0,0524955007232427</td>\n",
       "    </tr>\n",
       "    <tr>\n",
       "      <th>4</th>\n",
       "      <td>411,91052687909</td>\n",
       "      <td>360,973760653741</td>\n",
       "      <td>0,31001280464793</td>\n",
       "    </tr>\n",
       "  </tbody>\n",
       "</table>\n",
       "</div>"
      ],
      "text/plain": [
       "                  x                 y                    z\n",
       "0  334,783210575014  454,948964740592  0,00222160492674384\n",
       "1  111,777755949543  258,571017886778    0,799073240401644\n",
       "2  267,262460555538  378,948263069125    0,609963894856347\n",
       "3  237,746752443605  39,6912645267748   0,0524955007232427\n",
       "4   411,91052687909  360,973760653741     0,31001280464793"
      ]
     },
     "execution_count": 778,
     "metadata": {},
     "output_type": "execute_result"
    }
   ],
   "source": [
    "data.head()"
   ]
  },
  {
   "cell_type": "code",
   "execution_count": 779,
   "metadata": {
    "collapsed": true
   },
   "outputs": [],
   "source": [
    "def str_to_float(df): \n",
    "    new_df = df.copy()\n",
    "    return new_df.applymap(lambda x: float(x.replace(',','.')))"
   ]
  },
  {
   "cell_type": "code",
   "execution_count": 780,
   "metadata": {
    "collapsed": false
   },
   "outputs": [],
   "source": [
    "data = str_to_float(data)"
   ]
  },
  {
   "cell_type": "code",
   "execution_count": 781,
   "metadata": {
    "collapsed": false
   },
   "outputs": [
    {
     "data": {
      "text/html": [
       "<div>\n",
       "<table border=\"1\" class=\"dataframe\">\n",
       "  <thead>\n",
       "    <tr style=\"text-align: right;\">\n",
       "      <th></th>\n",
       "      <th>x</th>\n",
       "      <th>y</th>\n",
       "      <th>z</th>\n",
       "    </tr>\n",
       "  </thead>\n",
       "  <tbody>\n",
       "    <tr>\n",
       "      <th>count</th>\n",
       "      <td>3000.000000</td>\n",
       "      <td>3000.000000</td>\n",
       "      <td>3000.000000</td>\n",
       "    </tr>\n",
       "    <tr>\n",
       "      <th>mean</th>\n",
       "      <td>250.070525</td>\n",
       "      <td>247.538214</td>\n",
       "      <td>0.473798</td>\n",
       "    </tr>\n",
       "    <tr>\n",
       "      <th>std</th>\n",
       "      <td>143.558329</td>\n",
       "      <td>144.776419</td>\n",
       "      <td>0.350761</td>\n",
       "    </tr>\n",
       "    <tr>\n",
       "      <th>min</th>\n",
       "      <td>0.003081</td>\n",
       "      <td>0.047071</td>\n",
       "      <td>0.000010</td>\n",
       "    </tr>\n",
       "    <tr>\n",
       "      <th>25%</th>\n",
       "      <td>127.154623</td>\n",
       "      <td>122.687177</td>\n",
       "      <td>0.127083</td>\n",
       "    </tr>\n",
       "    <tr>\n",
       "      <th>50%</th>\n",
       "      <td>254.268244</td>\n",
       "      <td>248.545446</td>\n",
       "      <td>0.441669</td>\n",
       "    </tr>\n",
       "    <tr>\n",
       "      <th>75%</th>\n",
       "      <td>372.184817</td>\n",
       "      <td>373.087591</td>\n",
       "      <td>0.825775</td>\n",
       "    </tr>\n",
       "    <tr>\n",
       "      <th>max</th>\n",
       "      <td>499.521608</td>\n",
       "      <td>499.940887</td>\n",
       "      <td>0.999990</td>\n",
       "    </tr>\n",
       "  </tbody>\n",
       "</table>\n",
       "</div>"
      ],
      "text/plain": [
       "                 x            y            z\n",
       "count  3000.000000  3000.000000  3000.000000\n",
       "mean    250.070525   247.538214     0.473798\n",
       "std     143.558329   144.776419     0.350761\n",
       "min       0.003081     0.047071     0.000010\n",
       "25%     127.154623   122.687177     0.127083\n",
       "50%     254.268244   248.545446     0.441669\n",
       "75%     372.184817   373.087591     0.825775\n",
       "max     499.521608   499.940887     0.999990"
      ]
     },
     "execution_count": 781,
     "metadata": {},
     "output_type": "execute_result"
    }
   ],
   "source": [
    "data.describe()"
   ]
  },
  {
   "cell_type": "code",
   "execution_count": 782,
   "metadata": {
    "collapsed": false
   },
   "outputs": [],
   "source": [
    "def normalize(df): \n",
    "    new_df = df.copy()\n",
    "    new_df[['x','y']] = new_df[['x','y']] / 500\n",
    "    return new_df"
   ]
  },
  {
   "cell_type": "code",
   "execution_count": 783,
   "metadata": {
    "collapsed": false
   },
   "outputs": [
    {
     "data": {
      "text/html": [
       "<div>\n",
       "<table border=\"1\" class=\"dataframe\">\n",
       "  <thead>\n",
       "    <tr style=\"text-align: right;\">\n",
       "      <th></th>\n",
       "      <th>x</th>\n",
       "      <th>y</th>\n",
       "      <th>z</th>\n",
       "    </tr>\n",
       "  </thead>\n",
       "  <tbody>\n",
       "    <tr>\n",
       "      <th>count</th>\n",
       "      <td>3000.000000</td>\n",
       "      <td>3000.000000</td>\n",
       "      <td>3000.000000</td>\n",
       "    </tr>\n",
       "    <tr>\n",
       "      <th>mean</th>\n",
       "      <td>0.500141</td>\n",
       "      <td>0.495076</td>\n",
       "      <td>0.473798</td>\n",
       "    </tr>\n",
       "    <tr>\n",
       "      <th>std</th>\n",
       "      <td>0.287117</td>\n",
       "      <td>0.289553</td>\n",
       "      <td>0.350761</td>\n",
       "    </tr>\n",
       "    <tr>\n",
       "      <th>min</th>\n",
       "      <td>0.000006</td>\n",
       "      <td>0.000094</td>\n",
       "      <td>0.000010</td>\n",
       "    </tr>\n",
       "    <tr>\n",
       "      <th>25%</th>\n",
       "      <td>0.254309</td>\n",
       "      <td>0.245374</td>\n",
       "      <td>0.127083</td>\n",
       "    </tr>\n",
       "    <tr>\n",
       "      <th>50%</th>\n",
       "      <td>0.508536</td>\n",
       "      <td>0.497091</td>\n",
       "      <td>0.441669</td>\n",
       "    </tr>\n",
       "    <tr>\n",
       "      <th>75%</th>\n",
       "      <td>0.744370</td>\n",
       "      <td>0.746175</td>\n",
       "      <td>0.825775</td>\n",
       "    </tr>\n",
       "    <tr>\n",
       "      <th>max</th>\n",
       "      <td>0.999043</td>\n",
       "      <td>0.999882</td>\n",
       "      <td>0.999990</td>\n",
       "    </tr>\n",
       "  </tbody>\n",
       "</table>\n",
       "</div>"
      ],
      "text/plain": [
       "                 x            y            z\n",
       "count  3000.000000  3000.000000  3000.000000\n",
       "mean      0.500141     0.495076     0.473798\n",
       "std       0.287117     0.289553     0.350761\n",
       "min       0.000006     0.000094     0.000010\n",
       "25%       0.254309     0.245374     0.127083\n",
       "50%       0.508536     0.497091     0.441669\n",
       "75%       0.744370     0.746175     0.825775\n",
       "max       0.999043     0.999882     0.999990"
      ]
     },
     "execution_count": 783,
     "metadata": {},
     "output_type": "execute_result"
    }
   ],
   "source": [
    "data = normalize(data)\n",
    "data.describe()"
   ]
  },
  {
   "cell_type": "code",
   "execution_count": 793,
   "metadata": {
    "collapsed": false
   },
   "outputs": [
    {
     "data": {
      "text/plain": [
       "(2700, 3)"
      ]
     },
     "execution_count": 793,
     "metadata": {},
     "output_type": "execute_result"
    }
   ],
   "source": [
    "train = data.iloc[:2700]\n",
    "train.shape"
   ]
  },
  {
   "cell_type": "code",
   "execution_count": 794,
   "metadata": {
    "collapsed": false
   },
   "outputs": [
    {
     "data": {
      "text/plain": [
       "(300, 3)"
      ]
     },
     "execution_count": 794,
     "metadata": {},
     "output_type": "execute_result"
    }
   ],
   "source": [
    "test = data.iloc[2700:]\n",
    "test.shape"
   ]
  },
  {
   "cell_type": "code",
   "execution_count": 795,
   "metadata": {
    "collapsed": true
   },
   "outputs": [],
   "source": [
    "neural_net = Network([2,10,1])"
   ]
  },
  {
   "cell_type": "code",
   "execution_count": 796,
   "metadata": {
    "collapsed": false
   },
   "outputs": [
    {
     "name": "stdout",
     "output_type": "stream",
     "text": [
      "Epoch 1: MSE = 0.448940868619\n",
      "Epoch 2: MSE = 0.381365666483\n",
      "Epoch 3: MSE = 0.355528857178\n",
      "Epoch 4: MSE = 0.341212886406\n",
      "Epoch 5: MSE = 0.33226537358\n",
      "Epoch 6: MSE = 0.326166621022\n",
      "Epoch 7: MSE = 0.321569104711\n",
      "Epoch 8: MSE = 0.318509943037\n",
      "Epoch 9: MSE = 0.316343747621\n",
      "Epoch 10: MSE = 0.315103971439\n",
      "Epoch 11: MSE = 0.314278377447\n",
      "Epoch 12: MSE = 0.31370489907\n",
      "Epoch 13: MSE = 0.313313246903\n",
      "Epoch 14: MSE = 0.313022265827\n",
      "Epoch 15: MSE = 0.312825174273\n",
      "Epoch 16: MSE = 0.312658743826\n",
      "Epoch 17: MSE = 0.312510440194\n",
      "Epoch 18: MSE = 0.31237636408\n",
      "Epoch 19: MSE = 0.312253818407\n",
      "Epoch 20: MSE = 0.312140921355\n",
      "Epoch 21: MSE = 0.312036342952\n",
      "Epoch 22: MSE = 0.311939129025\n",
      "Epoch 23: MSE = 0.31184858455\n",
      "Epoch 24: MSE = 0.311764196302\n",
      "Epoch 25: MSE = 0.311685580958\n",
      "Epoch 26: MSE = 0.311617290931\n",
      "Epoch 27: MSE = 0.311554742427\n",
      "Epoch 28: MSE = 0.311497064099\n",
      "Epoch 29: MSE = 0.311444083147\n",
      "Epoch 30: MSE = 0.311395645794\n",
      "Epoch 31: MSE = 0.311351605423\n",
      "Epoch 32: MSE = 0.311311811588\n",
      "Epoch 33: MSE = 0.311276100561\n",
      "Epoch 34: MSE = 0.31124428834\n",
      "Epoch 35: MSE = 0.311216166931\n",
      "Epoch 36: MSE = 0.311191504373\n",
      "Epoch 37: MSE = 0.311170048308\n",
      "Epoch 38: MSE = 0.3111515323\n",
      "Epoch 39: MSE = 0.311135683681\n",
      "Epoch 40: MSE = 0.311122231625\n",
      "Epoch 41: MSE = 0.311110914368\n",
      "Epoch 42: MSE = 0.311101484879\n",
      "Epoch 43: MSE = 0.311093714736\n",
      "Epoch 44: MSE = 0.311087396271\n",
      "Epoch 45: MSE = 0.311082343264\n",
      "Epoch 46: MSE = 0.311078390542\n",
      "Epoch 47: MSE = 0.311075392841\n",
      "Epoch 48: MSE = 0.311073223238\n",
      "Epoch 49: MSE = 0.311071771359\n",
      "Epoch 50: MSE = 0.311070941562\n"
     ]
    }
   ],
   "source": [
    "MSE = neural_net.SGD(training_data = train, testing_data = test, eta = 0.01, epochs = 50)"
   ]
  },
  {
   "cell_type": "code",
   "execution_count": 797,
   "metadata": {
    "collapsed": false
   },
   "outputs": [
    {
     "data": {
      "text/plain": [
       "[<matplotlib.lines.Line2D at 0x10aa2be0>]"
      ]
     },
     "execution_count": 797,
     "metadata": {},
     "output_type": "execute_result"
    },
    {
     "data": {
      "image/png": "[encoded data removed]",
      "text/plain": [
       "<matplotlib.figure.Figure at 0x1091ee48>"
      ]
     },
     "metadata": {},
     "output_type": "display_data"
    }
   ],
   "source": [
    "plt.plot(MSE)"
   ]
  },
  {
   "cell_type": "code",
   "execution_count": 799,
   "metadata": {
    "collapsed": false
   },
   "outputs": [
    {
     "data": {
      "text/html": [
       "<div>\n",
       "<table border=\"1\" class=\"dataframe\">\n",
       "  <thead>\n",
       "    <tr style=\"text-align: right;\">\n",
       "      <th></th>\n",
       "      <th>x</th>\n",
       "      <th>y</th>\n",
       "      <th>z</th>\n",
       "    </tr>\n",
       "  </thead>\n",
       "  <tbody>\n",
       "    <tr>\n",
       "      <th>0</th>\n",
       "      <td>0.669566</td>\n",
       "      <td>0.909898</td>\n",
       "      <td>0.002222</td>\n",
       "    </tr>\n",
       "    <tr>\n",
       "      <th>1</th>\n",
       "      <td>0.223556</td>\n",
       "      <td>0.517142</td>\n",
       "      <td>0.799073</td>\n",
       "    </tr>\n",
       "    <tr>\n",
       "      <th>2</th>\n",
       "      <td>0.534525</td>\n",
       "      <td>0.757897</td>\n",
       "      <td>0.609964</td>\n",
       "    </tr>\n",
       "    <tr>\n",
       "      <th>3</th>\n",
       "      <td>0.475494</td>\n",
       "      <td>0.079383</td>\n",
       "      <td>0.052496</td>\n",
       "    </tr>\n",
       "    <tr>\n",
       "      <th>4</th>\n",
       "      <td>0.823821</td>\n",
       "      <td>0.721948</td>\n",
       "      <td>0.310013</td>\n",
       "    </tr>\n",
       "  </tbody>\n",
       "</table>\n",
       "</div>"
      ],
      "text/plain": [
       "          x         y         z\n",
       "0  0.669566  0.909898  0.002222\n",
       "1  0.223556  0.517142  0.799073\n",
       "2  0.534525  0.757897  0.609964\n",
       "3  0.475494  0.079383  0.052496\n",
       "4  0.823821  0.721948  0.310013"
      ]
     },
     "execution_count": 799,
     "metadata": {},
     "output_type": "execute_result"
    }
   ],
   "source": [
    "data.head()"
   ]
  },
  {
   "cell_type": "code",
   "execution_count": 821,
   "metadata": {
    "collapsed": true
   },
   "outputs": [],
   "source": [
    "t = data.copy()"
   ]
  },
  {
   "cell_type": "code",
   "execution_count": 822,
   "metadata": {
    "collapsed": true
   },
   "outputs": [],
   "source": [
    "def convert_to_pixel(oldValue):\n",
    "    oldRange = 1 \n",
    "    newRange = 255 \n",
    "    newValue = (((oldValue - 0) * newRange) / oldRange) + 0 #oldMin = newMin = 0\n",
    "    return math.ceil(newValue)"
   ]
  },
  {
   "cell_type": "code",
   "execution_count": 823,
   "metadata": {
    "collapsed": true
   },
   "outputs": [],
   "source": [
    "new_z = t['z'].apply(convert_to_pixel)"
   ]
  },
  {
   "cell_type": "code",
   "execution_count": 824,
   "metadata": {
    "collapsed": false
   },
   "outputs": [
    {
     "data": {
      "text/html": [
       "<div>\n",
       "<table border=\"1\" class=\"dataframe\">\n",
       "  <thead>\n",
       "    <tr style=\"text-align: right;\">\n",
       "      <th></th>\n",
       "      <th>x</th>\n",
       "      <th>y</th>\n",
       "      <th>z</th>\n",
       "    </tr>\n",
       "  </thead>\n",
       "  <tbody>\n",
       "    <tr>\n",
       "      <th>0</th>\n",
       "      <td>0.669566</td>\n",
       "      <td>0.909898</td>\n",
       "      <td>1</td>\n",
       "    </tr>\n",
       "    <tr>\n",
       "      <th>1</th>\n",
       "      <td>0.223556</td>\n",
       "      <td>0.517142</td>\n",
       "      <td>204</td>\n",
       "    </tr>\n",
       "    <tr>\n",
       "      <th>2</th>\n",
       "      <td>0.534525</td>\n",
       "      <td>0.757897</td>\n",
       "      <td>156</td>\n",
       "    </tr>\n",
       "    <tr>\n",
       "      <th>3</th>\n",
       "      <td>0.475494</td>\n",
       "      <td>0.079383</td>\n",
       "      <td>14</td>\n",
       "    </tr>\n",
       "    <tr>\n",
       "      <th>4</th>\n",
       "      <td>0.823821</td>\n",
       "      <td>0.721948</td>\n",
       "      <td>80</td>\n",
       "    </tr>\n",
       "  </tbody>\n",
       "</table>\n",
       "</div>"
      ],
      "text/plain": [
       "          x         y    z\n",
       "0  0.669566  0.909898    1\n",
       "1  0.223556  0.517142  204\n",
       "2  0.534525  0.757897  156\n",
       "3  0.475494  0.079383   14\n",
       "4  0.823821  0.721948   80"
      ]
     },
     "execution_count": 824,
     "metadata": {},
     "output_type": "execute_result"
    }
   ],
   "source": [
    "t.z = new_z \n",
    "t.head()"
   ]
  },
  {
   "cell_type": "code",
   "execution_count": 825,
   "metadata": {
    "collapsed": false
   },
   "outputs": [
    {
     "data": {
      "text/plain": [
       "array([[  6.69566421e-01,   9.09897929e-01,   1.00000000e+00],\n",
       "       [  2.23555512e-01,   5.17142036e-01,   2.04000000e+02],\n",
       "       [  5.34524921e-01,   7.57896526e-01,   1.56000000e+02],\n",
       "       ..., \n",
       "       [  9.73577695e-02,   9.99881774e-01,   8.60000000e+01],\n",
       "       [  2.07353641e-01,   1.92002171e-01,   9.00000000e+00],\n",
       "       [  9.54042146e-01,   4.46168101e-03,   1.50000000e+01]])"
      ]
     },
     "execution_count": 825,
     "metadata": {},
     "output_type": "execute_result"
    }
   ],
   "source": [
    "img = t.values\n",
    "img"
   ]
  },
  {
   "cell_type": "code",
   "execution_count": 826,
   "metadata": {
    "collapsed": false
   },
   "outputs": [
    {
     "data": {
      "text/plain": [
       "<matplotlib.image.AxesImage at 0x10fb9f98>"
      ]
     },
     "execution_count": 826,
     "metadata": {},
     "output_type": "execute_result"
    },
    {
     "data": {
      "image/png": "[encoded data removed]",
      "text/plain": [
       "<matplotlib.figure.Figure at 0x10e04160>"
      ]
     },
     "metadata": {},
     "output_type": "display_data"
    }
   ],
   "source": [
    "plt.imshow(img)"
   ]
  },
  {
   "cell_type": "code",
   "execution_count": 834,
   "metadata": {
    "collapsed": true
   },
   "outputs": [],
   "source": [
    "data = np.zeros( (500,500,3), dtype=np.uint8)\n",
    "data[256,256] = [255,0,0]"
   ]
  },
  {
   "cell_type": "code",
   "execution_count": 836,
   "metadata": {
    "collapsed": false
   },
   "outputs": [
    {
     "data": {
      "text/plain": [
       "<matplotlib.image.AxesImage at 0x1ef63f60>"
      ]
     },
     "execution_count": 836,
     "metadata": {},
     "output_type": "execute_result"
    },
    {
     "data": {
      "image/png": "[encoded data removed]",
      "text/plain": [
       "<matplotlib.figure.Figure at 0x1edfa198>"
      ]
     },
     "metadata": {},
     "output_type": "display_data"
    }
   ],
   "source": [
    "plt.imshow(data, interpolation=\"nearest\")"
   ]
  },
  {
   "cell_type": "code",
   "execution_count": null,
   "metadata": {
    "collapsed": true
   },
   "outputs": [],
   "source": []
  },
  {
   "cell_type": "code",
   "execution_count": null,
   "metadata": {
    "collapsed": true
   },
   "outputs": [],
   "source": []
  },
  {
   "cell_type": "code",
   "execution_count": null,
   "metadata": {
    "collapsed": true
   },
   "outputs": [],
   "source": []
  },
  {
   "cell_type": "code",
   "execution_count": null,
   "metadata": {
    "collapsed": true
   },
   "outputs": [],
   "source": []
  },
  {
   "cell_type": "code",
   "execution_count": null,
   "metadata": {
    "collapsed": true
   },
   "outputs": [],
   "source": []
  }
 ],
 "metadata": {
  "kernelspec": {
   "display_name": "Python 2",
   "language": "python",
   "name": "python2"
  },
  "language_info": {
   "codemirror_mode": {
    "name": "ipython",
    "version": 2
   },
   "file_extension": ".py",
   "mimetype": "text/x-python",
   "name": "python",
   "nbconvert_exporter": "python",
   "pygments_lexer": "ipython2",
   "version": "2.7.10"
  }
 },
 "nbformat": 4,
 "nbformat_minor": 0
}
