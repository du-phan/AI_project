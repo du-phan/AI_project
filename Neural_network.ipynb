{
 "cells": [
  {
   "cell_type": "code",
   "execution_count": 2,
   "metadata": {
    "collapsed": false
   },
   "outputs": [],
   "source": [
    "import numpy as np \n",
    "import pandas as pd\n",
    "import matplotlib.pyplot as plt\n",
    "import matplotlib.image as mpimg\n",
    "import math\n",
    "from PIL import Image\n",
    "%matplotlib inline"
   ]
  },
  {
   "cell_type": "code",
   "execution_count": 3,
   "metadata": {
    "collapsed": false
   },
   "outputs": [],
   "source": [
    "class Network(object):\n",
    "    \n",
    "    def __init__(self, layer_node): #layer_node is a list contains the number of nodes in each layer\n",
    "        self.num_layer = len(layer_node)\n",
    "        self.layer_node = layer_node\n",
    "        self.input_node = []\n",
    "        #self.node = [ np.random.randn(num_node,1) for num_node in layer_node ]\n",
    "        self.weights = [ np.random.randn(next_node,previous_node+1) for next_node, previous_node in zip(layer_node[1:],layer_node[:-1]) ]\n",
    "        \n",
    "    def add_input_node(self,input_vector): #must be of size (n,1)\n",
    "        if len(input_vector) == self.layer_node[0]: \n",
    "            self.input_node = np.append([[1]],input_vector, axis=0) # add bias node\n",
    "        else:\n",
    "            print \"Input vector length invalid: given len {1}, need len {0}\".format(self.layer_node[0], len(input_vector))\n",
    "            \n",
    "    def forward_propagation(self):\n",
    "        output_vector = self.input_node\n",
    "        for weight in self.weights: \n",
    "            #print weight.shape\n",
    "            #print output_vector.shape\n",
    "            s = np.dot(weight, output_vector)\n",
    "            output_vector = np.append([[1]], output_transformation(s), axis=0) # add bias node -> size (n+1,1)\n",
    "        return output_vector[1:] # we omit the bias node \n",
    "        \n",
    "    def backpropagation(self,input_vector, output_vector):\n",
    "        s = [] # vector before entering node\n",
    "        x = [np.append([[1]],input_vector, axis=0)] # vector after entering node\n",
    "        sensitivity = [ np.zeros([1,i]) for i in self.layer_node[1:] ]\n",
    "        #print len(sensitivity)\n",
    "        \n",
    "        #feedforward, save all the node coefs of each layer\n",
    "        for weight in self.weights:\n",
    "            s.append(np.dot(weight, x[-1]))\n",
    "            x.append(np.append([[1]], output_transformation(s[-1]), axis=0))\n",
    "            \n",
    "        sensitivity[-1] = 2*(x[-1][1:] - output_vector) # omit the bias node \n",
    "        \n",
    "        #backpropagation, compute sensitivity backward\n",
    "        for layer_index in xrange(2, self.num_layer):\n",
    "            w = self.weights[-layer_index+1]\n",
    "            #print w\n",
    "            #print w.shape\n",
    "            #print sensitivity[-layer_index+1].shape\n",
    "            \n",
    "            sensitivity[-layer_index] = (np.dot(w.T,sensitivity[-layer_index+1]))[1:] #excluding the bias componnent which has the index 0\n",
    "            \n",
    "        return x, sensitivity\n",
    "    \n",
    "    def SGD(self, training_data, testing_data, eta, epochs): #stochastic gradient descent\n",
    "        MSE_list = []\n",
    "        for epoch in xrange(epochs): \n",
    "            MSE = 0 \n",
    "            for index, row in training_data.iterrows():\n",
    "                vector = np.array(row).reshape(3,1) \n",
    "                input_vector, output_vector = vector[:2], vector[2:]\n",
    "                x, sensitivity = self.backpropagation(input_vector, output_vector)\n",
    "                gradient = [ np.random.randn(next_node,previous_node+1) \n",
    "                            for next_node, previous_node in zip(self.layer_node[1:],self.layer_node[:-1])]\n",
    "                for l in xrange(len(gradient)):\n",
    "                    #print x[l].shape\n",
    "                    #print sensitivity[l].shape\n",
    "                    gradient[l] = np.dot(sensitivity[l],np.transpose(x[l]))\n",
    "                    self.weights[l] = self.weights[l] - eta*gradient[l]\n",
    "            MSE = self.evaluate(testing_data)\n",
    "            MSE_list.append(MSE)\n",
    "            print \"Epoch {0}: MSE = {1}\".format(epoch+1, MSE)\n",
    "            #print\n",
    "        return MSE_list\n",
    "    \n",
    "    def evaluate(self,testing_data):\n",
    "        MSE = 0\n",
    "        for index, row in testing_data.iterrows():\n",
    "            vector = np.array(row).reshape(3,1) \n",
    "            input_vector, output_vector = vector[:2], vector[2:]\n",
    "            self.add_input_node(input_vector)\n",
    "            predicted_vector = self.forward_propagation()\n",
    "            #print predicted_vector, output_vector\n",
    "            MSE += np.abs(predicted_vector - output_vector)\n",
    "        return MSE[0][0]/testing_data.shape[0]\n",
    "\n",
    "            "
   ]
  },
  {
   "cell_type": "code",
   "execution_count": 4,
   "metadata": {
    "collapsed": true
   },
   "outputs": [],
   "source": [
    "def output_transformation(z):\n",
    "    return z # linear regression -> identity function"
   ]
  },
  {
   "cell_type": "code",
   "execution_count": null,
   "metadata": {
    "collapsed": true
   },
   "outputs": [],
   "source": []
  },
  {
   "cell_type": "code",
   "execution_count": 50,
   "metadata": {
    "collapsed": true
   },
   "outputs": [],
   "source": [
    "data = pd.read_csv('donneespb4.txt', sep=' ', header=None)"
   ]
  },
  {
   "cell_type": "code",
   "execution_count": 51,
   "metadata": {
    "collapsed": false
   },
   "outputs": [],
   "source": [
    "data.columns = ['x','y','z']"
   ]
  },
  {
   "cell_type": "code",
   "execution_count": 52,
   "metadata": {
    "collapsed": false
   },
   "outputs": [
    {
     "data": {
      "text/html": [
       "<div>\n",
       "<table border=\"1\" class=\"dataframe\">\n",
       "  <thead>\n",
       "    <tr style=\"text-align: right;\">\n",
       "      <th></th>\n",
       "      <th>x</th>\n",
       "      <th>y</th>\n",
       "      <th>z</th>\n",
       "    </tr>\n",
       "  </thead>\n",
       "  <tbody>\n",
       "    <tr>\n",
       "      <th>0</th>\n",
       "      <td>318,486003167222</td>\n",
       "      <td>121,206839602071</td>\n",
       "      <td>0,8</td>\n",
       "    </tr>\n",
       "    <tr>\n",
       "      <th>1</th>\n",
       "      <td>92,3891997532571</td>\n",
       "      <td>169,196157515606</td>\n",
       "      <td>0,2</td>\n",
       "    </tr>\n",
       "    <tr>\n",
       "      <th>2</th>\n",
       "      <td>87,9680665725936</td>\n",
       "      <td>184,310915080975</td>\n",
       "      <td>0,2</td>\n",
       "    </tr>\n",
       "    <tr>\n",
       "      <th>3</th>\n",
       "      <td>92,9280586133405</td>\n",
       "      <td>272,455903502393</td>\n",
       "      <td>0,2</td>\n",
       "    </tr>\n",
       "    <tr>\n",
       "      <th>4</th>\n",
       "      <td>210,182290901515</td>\n",
       "      <td>400,242635770814</td>\n",
       "      <td>0,8</td>\n",
       "    </tr>\n",
       "  </tbody>\n",
       "</table>\n",
       "</div>"
      ],
      "text/plain": [
       "                  x                 y    z\n",
       "0  318,486003167222  121,206839602071  0,8\n",
       "1  92,3891997532571  169,196157515606  0,2\n",
       "2  87,9680665725936  184,310915080975  0,2\n",
       "3  92,9280586133405  272,455903502393  0,2\n",
       "4  210,182290901515  400,242635770814  0,8"
      ]
     },
     "execution_count": 52,
     "metadata": {},
     "output_type": "execute_result"
    }
   ],
   "source": [
    "data.head()"
   ]
  },
  {
   "cell_type": "code",
   "execution_count": 53,
   "metadata": {
    "collapsed": true
   },
   "outputs": [],
   "source": [
    "def str_to_float(df): \n",
    "    new_df = df.copy()\n",
    "    return new_df.applymap(lambda x: float(x.replace(',','.')))"
   ]
  },
  {
   "cell_type": "code",
   "execution_count": 54,
   "metadata": {
    "collapsed": false
   },
   "outputs": [],
   "source": [
    "data = str_to_float(data)"
   ]
  },
  {
   "cell_type": "code",
   "execution_count": 55,
   "metadata": {
    "collapsed": false
   },
   "outputs": [
    {
     "data": {
      "text/html": [
       "<div>\n",
       "<table border=\"1\" class=\"dataframe\">\n",
       "  <thead>\n",
       "    <tr style=\"text-align: right;\">\n",
       "      <th></th>\n",
       "      <th>x</th>\n",
       "      <th>y</th>\n",
       "      <th>z</th>\n",
       "    </tr>\n",
       "  </thead>\n",
       "  <tbody>\n",
       "    <tr>\n",
       "      <th>count</th>\n",
       "      <td>3000.000000</td>\n",
       "      <td>3000.000000</td>\n",
       "      <td>3000.00000</td>\n",
       "    </tr>\n",
       "    <tr>\n",
       "      <th>mean</th>\n",
       "      <td>202.815977</td>\n",
       "      <td>248.171568</td>\n",
       "      <td>0.36440</td>\n",
       "    </tr>\n",
       "    <tr>\n",
       "      <th>std</th>\n",
       "      <td>108.686071</td>\n",
       "      <td>100.202371</td>\n",
       "      <td>0.26765</td>\n",
       "    </tr>\n",
       "    <tr>\n",
       "      <th>min</th>\n",
       "      <td>80.002399</td>\n",
       "      <td>50.024106</td>\n",
       "      <td>0.20000</td>\n",
       "    </tr>\n",
       "    <tr>\n",
       "      <th>25%</th>\n",
       "      <td>97.226486</td>\n",
       "      <td>164.714578</td>\n",
       "      <td>0.20000</td>\n",
       "    </tr>\n",
       "    <tr>\n",
       "      <th>50%</th>\n",
       "      <td>165.254148</td>\n",
       "      <td>246.107113</td>\n",
       "      <td>0.20000</td>\n",
       "    </tr>\n",
       "    <tr>\n",
       "      <th>75%</th>\n",
       "      <td>306.658322</td>\n",
       "      <td>335.431398</td>\n",
       "      <td>0.80000</td>\n",
       "    </tr>\n",
       "    <tr>\n",
       "      <th>max</th>\n",
       "      <td>399.924324</td>\n",
       "      <td>449.796310</td>\n",
       "      <td>0.80000</td>\n",
       "    </tr>\n",
       "  </tbody>\n",
       "</table>\n",
       "</div>"
      ],
      "text/plain": [
       "                 x            y           z\n",
       "count  3000.000000  3000.000000  3000.00000\n",
       "mean    202.815977   248.171568     0.36440\n",
       "std     108.686071   100.202371     0.26765\n",
       "min      80.002399    50.024106     0.20000\n",
       "25%      97.226486   164.714578     0.20000\n",
       "50%     165.254148   246.107113     0.20000\n",
       "75%     306.658322   335.431398     0.80000\n",
       "max     399.924324   449.796310     0.80000"
      ]
     },
     "execution_count": 55,
     "metadata": {},
     "output_type": "execute_result"
    }
   ],
   "source": [
    "data.describe()"
   ]
  },
  {
   "cell_type": "code",
   "execution_count": 56,
   "metadata": {
    "collapsed": false
   },
   "outputs": [],
   "source": [
    "def normalize(df): \n",
    "    new_df = df.copy()\n",
    "    new_df[['x','y']] = new_df[['x','y']] / 500\n",
    "    return new_df"
   ]
  },
  {
   "cell_type": "code",
   "execution_count": 57,
   "metadata": {
    "collapsed": false
   },
   "outputs": [
    {
     "data": {
      "text/html": [
       "<div>\n",
       "<table border=\"1\" class=\"dataframe\">\n",
       "  <thead>\n",
       "    <tr style=\"text-align: right;\">\n",
       "      <th></th>\n",
       "      <th>x</th>\n",
       "      <th>y</th>\n",
       "      <th>z</th>\n",
       "    </tr>\n",
       "  </thead>\n",
       "  <tbody>\n",
       "    <tr>\n",
       "      <th>count</th>\n",
       "      <td>3000.000000</td>\n",
       "      <td>3000.000000</td>\n",
       "      <td>3000.00000</td>\n",
       "    </tr>\n",
       "    <tr>\n",
       "      <th>mean</th>\n",
       "      <td>0.405632</td>\n",
       "      <td>0.496343</td>\n",
       "      <td>0.36440</td>\n",
       "    </tr>\n",
       "    <tr>\n",
       "      <th>std</th>\n",
       "      <td>0.217372</td>\n",
       "      <td>0.200405</td>\n",
       "      <td>0.26765</td>\n",
       "    </tr>\n",
       "    <tr>\n",
       "      <th>min</th>\n",
       "      <td>0.160005</td>\n",
       "      <td>0.100048</td>\n",
       "      <td>0.20000</td>\n",
       "    </tr>\n",
       "    <tr>\n",
       "      <th>25%</th>\n",
       "      <td>0.194453</td>\n",
       "      <td>0.329429</td>\n",
       "      <td>0.20000</td>\n",
       "    </tr>\n",
       "    <tr>\n",
       "      <th>50%</th>\n",
       "      <td>0.330508</td>\n",
       "      <td>0.492214</td>\n",
       "      <td>0.20000</td>\n",
       "    </tr>\n",
       "    <tr>\n",
       "      <th>75%</th>\n",
       "      <td>0.613317</td>\n",
       "      <td>0.670863</td>\n",
       "      <td>0.80000</td>\n",
       "    </tr>\n",
       "    <tr>\n",
       "      <th>max</th>\n",
       "      <td>0.799849</td>\n",
       "      <td>0.899593</td>\n",
       "      <td>0.80000</td>\n",
       "    </tr>\n",
       "  </tbody>\n",
       "</table>\n",
       "</div>"
      ],
      "text/plain": [
       "                 x            y           z\n",
       "count  3000.000000  3000.000000  3000.00000\n",
       "mean      0.405632     0.496343     0.36440\n",
       "std       0.217372     0.200405     0.26765\n",
       "min       0.160005     0.100048     0.20000\n",
       "25%       0.194453     0.329429     0.20000\n",
       "50%       0.330508     0.492214     0.20000\n",
       "75%       0.613317     0.670863     0.80000\n",
       "max       0.799849     0.899593     0.80000"
      ]
     },
     "execution_count": 57,
     "metadata": {},
     "output_type": "execute_result"
    }
   ],
   "source": [
    "data = normalize(data)\n",
    "data.describe()"
   ]
  },
  {
   "cell_type": "code",
   "execution_count": 58,
   "metadata": {
    "collapsed": false
   },
   "outputs": [
    {
     "data": {
      "text/plain": [
       "(2700, 3)"
      ]
     },
     "execution_count": 58,
     "metadata": {},
     "output_type": "execute_result"
    }
   ],
   "source": [
    "train = data.iloc[:2700]\n",
    "train.shape"
   ]
  },
  {
   "cell_type": "code",
   "execution_count": 59,
   "metadata": {
    "collapsed": false
   },
   "outputs": [
    {
     "data": {
      "text/plain": [
       "(300, 3)"
      ]
     },
     "execution_count": 59,
     "metadata": {},
     "output_type": "execute_result"
    }
   ],
   "source": [
    "test = data.iloc[2700:]\n",
    "test.shape"
   ]
  },
  {
   "cell_type": "code",
   "execution_count": 60,
   "metadata": {
    "collapsed": true
   },
   "outputs": [],
   "source": [
    "neural_net = Network([2,10,1])"
   ]
  },
  {
   "cell_type": "code",
   "execution_count": 61,
   "metadata": {
    "collapsed": false
   },
   "outputs": [
    {
     "name": "stdout",
     "output_type": "stream",
     "text": [
      "Epoch 1: MSE = 0.175320629216\n",
      "Epoch 2: MSE = 0.176055085448\n",
      "Epoch 3: MSE = 0.176450524787\n",
      "Epoch 4: MSE = 0.176564023602\n",
      "Epoch 5: MSE = 0.176450019711\n",
      "Epoch 6: MSE = 0.176160967553\n",
      "Epoch 7: MSE = 0.175745932135\n",
      "Epoch 8: MSE = 0.175248952652\n",
      "Epoch 9: MSE = 0.174707861958\n",
      "Epoch 10: MSE = 0.174153701986\n",
      "Epoch 11: MSE = 0.173610667402\n",
      "Epoch 12: MSE = 0.173096459896\n",
      "Epoch 13: MSE = 0.172622938983\n",
      "Epoch 14: MSE = 0.172196966777\n",
      "Epoch 15: MSE = 0.17182135279\n",
      "Epoch 16: MSE = 0.17149581349\n",
      "Epoch 17: MSE = 0.171217874484\n",
      "Epoch 18: MSE = 0.170983661867\n",
      "Epoch 19: MSE = 0.170788551269\n",
      "Epoch 20: MSE = 0.170627664556\n",
      "Epoch 21: MSE = 0.170496221657\n",
      "Epoch 22: MSE = 0.170389766739\n",
      "Epoch 23: MSE = 0.170304293761\n",
      "Epoch 24: MSE = 0.170236297339\n",
      "Epoch 25: MSE = 0.170182772441\n",
      "Epoch 26: MSE = 0.170141182279\n",
      "Epoch 27: MSE = 0.170109409075\n",
      "Epoch 28: MSE = 0.170085698061\n",
      "Epoch 29: MSE = 0.17006860141\n",
      "Epoch 30: MSE = 0.170056926068\n",
      "Epoch 31: MSE = 0.170049687455\n",
      "Epoch 32: MSE = 0.170046069736\n",
      "Epoch 33: MSE = 0.170045392536\n",
      "Epoch 34: MSE = 0.170047083595\n",
      "Epoch 35: MSE = 0.170050656596\n",
      "Epoch 36: MSE = 0.170055693424\n",
      "Epoch 37: MSE = 0.170061830085\n",
      "Epoch 38: MSE = 0.17006874564\n",
      "Epoch 39: MSE = 0.170076153582\n",
      "Epoch 40: MSE = 0.170083795167\n",
      "Epoch 41: MSE = 0.17009143432\n",
      "Epoch 42: MSE = 0.1700988538\n",
      "Epoch 43: MSE = 0.170105852359\n",
      "Epoch 44: MSE = 0.170112242704\n",
      "Epoch 45: MSE = 0.170117850096\n",
      "Epoch 46: MSE = 0.170122511465\n",
      "Epoch 47: MSE = 0.170126074928\n",
      "Epoch 48: MSE = 0.170128399642\n",
      "Epoch 49: MSE = 0.170129355913\n",
      "Epoch 50: MSE = 0.170128825513\n"
     ]
    }
   ],
   "source": [
    "MSE = neural_net.SGD(training_data = train, testing_data = test, eta = 0.01, epochs = 50)"
   ]
  },
  {
   "cell_type": "code",
   "execution_count": 62,
   "metadata": {
    "collapsed": false
   },
   "outputs": [
    {
     "data": {
      "text/plain": [
       "[<matplotlib.lines.Line2D at 0xe1d8470>]"
      ]
     },
     "execution_count": 62,
     "metadata": {},
     "output_type": "execute_result"
    },
    {
     "data": {
      "image/png": "[encoded data removed]",
      "text/plain": [
       "<matplotlib.figure.Figure at 0xe1fe128>"
      ]
     },
     "metadata": {},
     "output_type": "display_data"
    }
   ],
   "source": [
    "plt.plot(MSE)"
   ]
  },
  {
   "cell_type": "code",
   "execution_count": 63,
   "metadata": {
    "collapsed": false
   },
   "outputs": [
    {
     "data": {
      "text/html": [
       "<div>\n",
       "<table border=\"1\" class=\"dataframe\">\n",
       "  <thead>\n",
       "    <tr style=\"text-align: right;\">\n",
       "      <th></th>\n",
       "      <th>x</th>\n",
       "      <th>y</th>\n",
       "      <th>z</th>\n",
       "    </tr>\n",
       "  </thead>\n",
       "  <tbody>\n",
       "    <tr>\n",
       "      <th>0</th>\n",
       "      <td>0.636972</td>\n",
       "      <td>0.242414</td>\n",
       "      <td>0.8</td>\n",
       "    </tr>\n",
       "    <tr>\n",
       "      <th>1</th>\n",
       "      <td>0.184778</td>\n",
       "      <td>0.338392</td>\n",
       "      <td>0.2</td>\n",
       "    </tr>\n",
       "    <tr>\n",
       "      <th>2</th>\n",
       "      <td>0.175936</td>\n",
       "      <td>0.368622</td>\n",
       "      <td>0.2</td>\n",
       "    </tr>\n",
       "    <tr>\n",
       "      <th>3</th>\n",
       "      <td>0.185856</td>\n",
       "      <td>0.544912</td>\n",
       "      <td>0.2</td>\n",
       "    </tr>\n",
       "    <tr>\n",
       "      <th>4</th>\n",
       "      <td>0.420365</td>\n",
       "      <td>0.800485</td>\n",
       "      <td>0.8</td>\n",
       "    </tr>\n",
       "  </tbody>\n",
       "</table>\n",
       "</div>"
      ],
      "text/plain": [
       "          x         y    z\n",
       "0  0.636972  0.242414  0.8\n",
       "1  0.184778  0.338392  0.2\n",
       "2  0.175936  0.368622  0.2\n",
       "3  0.185856  0.544912  0.2\n",
       "4  0.420365  0.800485  0.8"
      ]
     },
     "execution_count": 63,
     "metadata": {},
     "output_type": "execute_result"
    }
   ],
   "source": [
    "data.head()"
   ]
  },
  {
   "cell_type": "code",
   "execution_count": 64,
   "metadata": {
    "collapsed": true
   },
   "outputs": [],
   "source": [
    "t = data.copy()"
   ]
  },
  {
   "cell_type": "code",
   "execution_count": 65,
   "metadata": {
    "collapsed": true
   },
   "outputs": [],
   "source": [
    "def convert_to_pixel(oldValue):\n",
    "    oldRange = 1 \n",
    "    newRange = 255 \n",
    "    newValue = (((oldValue - 0) * newRange) / oldRange) + 0 #oldMin = newMin = 0\n",
    "    return math.ceil(newValue)"
   ]
  },
  {
   "cell_type": "code",
   "execution_count": 66,
   "metadata": {
    "collapsed": true
   },
   "outputs": [],
   "source": [
    "new_z = t['z'].apply(convert_to_pixel)"
   ]
  },
  {
   "cell_type": "code",
   "execution_count": 67,
   "metadata": {
    "collapsed": false
   },
   "outputs": [
    {
     "data": {
      "text/html": [
       "<div>\n",
       "<table border=\"1\" class=\"dataframe\">\n",
       "  <thead>\n",
       "    <tr style=\"text-align: right;\">\n",
       "      <th></th>\n",
       "      <th>x</th>\n",
       "      <th>y</th>\n",
       "      <th>z</th>\n",
       "    </tr>\n",
       "  </thead>\n",
       "  <tbody>\n",
       "    <tr>\n",
       "      <th>0</th>\n",
       "      <td>0.636972</td>\n",
       "      <td>0.242414</td>\n",
       "      <td>204</td>\n",
       "    </tr>\n",
       "    <tr>\n",
       "      <th>1</th>\n",
       "      <td>0.184778</td>\n",
       "      <td>0.338392</td>\n",
       "      <td>51</td>\n",
       "    </tr>\n",
       "    <tr>\n",
       "      <th>2</th>\n",
       "      <td>0.175936</td>\n",
       "      <td>0.368622</td>\n",
       "      <td>51</td>\n",
       "    </tr>\n",
       "    <tr>\n",
       "      <th>3</th>\n",
       "      <td>0.185856</td>\n",
       "      <td>0.544912</td>\n",
       "      <td>51</td>\n",
       "    </tr>\n",
       "    <tr>\n",
       "      <th>4</th>\n",
       "      <td>0.420365</td>\n",
       "      <td>0.800485</td>\n",
       "      <td>204</td>\n",
       "    </tr>\n",
       "  </tbody>\n",
       "</table>\n",
       "</div>"
      ],
      "text/plain": [
       "          x         y    z\n",
       "0  0.636972  0.242414  204\n",
       "1  0.184778  0.338392   51\n",
       "2  0.175936  0.368622   51\n",
       "3  0.185856  0.544912   51\n",
       "4  0.420365  0.800485  204"
      ]
     },
     "execution_count": 67,
     "metadata": {},
     "output_type": "execute_result"
    }
   ],
   "source": [
    "t.z = new_z \n",
    "t.head()"
   ]
  },
  {
   "cell_type": "code",
   "execution_count": 69,
   "metadata": {
    "collapsed": false
   },
   "outputs": [
    {
     "data": {
      "text/plain": [
       "array([[  3.18486003e+02,   1.21206840e+02,   8.00000000e-01],\n",
       "       [  9.23891998e+01,   1.69196158e+02,   2.00000000e-01],\n",
       "       [  8.79680666e+01,   1.84310915e+02,   2.00000000e-01],\n",
       "       ..., \n",
       "       [  3.82737700e+02,   3.43214800e+02,   8.00000000e-01],\n",
       "       [  9.83713296e+01,   1.37674367e+02,   2.00000000e-01],\n",
       "       [  1.01250648e+02,   3.54561713e+02,   2.00000000e-01]])"
      ]
     },
     "execution_count": 69,
     "metadata": {},
     "output_type": "execute_result"
    }
   ],
   "source": [
    "#t = pd.read_csv('donneespb4.txt', sep=' ', header=None)\n",
    "#t = str_to_float(t)\n",
    "img = t.values\n",
    "img"
   ]
  },
  {
   "cell_type": "code",
   "execution_count": 70,
   "metadata": {
    "collapsed": false
   },
   "outputs": [],
   "source": [
    "imag = Image.fromarray(img)"
   ]
  },
  {
   "cell_type": "code",
   "execution_count": 71,
   "metadata": {
    "collapsed": false
   },
   "outputs": [],
   "source": [
    "imag.show()"
   ]
  },
  {
   "cell_type": "code",
   "execution_count": 45,
   "metadata": {
    "collapsed": false
   },
   "outputs": [],
   "source": [
    "arr = np.random.randint(0,256, 100*100) \n",
    "arr.resize((100,100))\n",
    "im = Image.fromarray(arr)"
   ]
  },
  {
   "cell_type": "code",
   "execution_count": 40,
   "metadata": {
    "collapsed": true
   },
   "outputs": [],
   "source": [
    "im.show()"
   ]
  },
  {
   "cell_type": "code",
   "execution_count": 46,
   "metadata": {
    "collapsed": false
   },
   "outputs": [
    {
     "data": {
      "text/plain": [
       "array([[ 98, 161,  82, ..., 130, 154,  82],\n",
       "       [143, 146, 181, ..., 223, 127, 135],\n",
       "       [186, 223, 126, ..., 188, 136, 247],\n",
       "       ..., \n",
       "       [252, 208, 108, ..., 203,  98,  67],\n",
       "       [253, 120,  46, ..., 246,  77, 197],\n",
       "       [213, 255, 127, ...,   7, 155, 158]])"
      ]
     },
     "execution_count": 46,
     "metadata": {},
     "output_type": "execute_result"
    }
   ],
   "source": [
    "arr"
   ]
  },
  {
   "cell_type": "code",
   "execution_count": 41,
   "metadata": {
    "collapsed": false
   },
   "outputs": [
    {
     "data": {
      "text/plain": [
       "array([[  6.69566421e-01,   9.09897929e-01,   1.00000000e+00],\n",
       "       [  2.23555512e-01,   5.17142036e-01,   2.04000000e+02],\n",
       "       [  5.34524921e-01,   7.57896526e-01,   1.56000000e+02],\n",
       "       ..., \n",
       "       [  9.73577695e-02,   9.99881774e-01,   8.60000000e+01],\n",
       "       [  2.07353641e-01,   1.92002171e-01,   9.00000000e+00],\n",
       "       [  9.54042146e-01,   4.46168101e-03,   1.50000000e+01]])"
      ]
     },
     "execution_count": 41,
     "metadata": {},
     "output_type": "execute_result"
    }
   ],
   "source": [
    "img"
   ]
  },
  {
   "cell_type": "code",
   "execution_count": null,
   "metadata": {
    "collapsed": true
   },
   "outputs": [],
   "source": []
  },
  {
   "cell_type": "code",
   "execution_count": null,
   "metadata": {
    "collapsed": true
   },
   "outputs": [],
   "source": []
  },
  {
   "cell_type": "code",
   "execution_count": null,
   "metadata": {
    "collapsed": true
   },
   "outputs": [],
   "source": []
  },
  {
   "cell_type": "code",
   "execution_count": null,
   "metadata": {
    "collapsed": true
   },
   "outputs": [],
   "source": []
  },
  {
   "cell_type": "code",
   "execution_count": null,
   "metadata": {
    "collapsed": true
   },
   "outputs": [],
   "source": []
  }
 ],
 "metadata": {
  "kernelspec": {
   "display_name": "Python 2",
   "language": "python",
   "name": "python2"
  },
  "language_info": {
   "codemirror_mode": {
    "name": "ipython",
    "version": 2
   },
   "file_extension": ".py",
   "mimetype": "text/x-python",
   "name": "python",
   "nbconvert_exporter": "python",
   "pygments_lexer": "ipython2",
   "version": "2.7.10"
  }
 },
 "nbformat": 4,
 "nbformat_minor": 0
}
