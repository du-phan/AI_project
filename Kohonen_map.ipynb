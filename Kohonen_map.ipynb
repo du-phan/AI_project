{
 "cells": [
  {
   "cell_type": "code",
   "execution_count": 3,
   "metadata": {
    "collapsed": true
   },
   "outputs": [],
   "source": [
    "import numpy as np\n",
    "import pandas as pd\n",
    "import matplotlib.pyplot as plt\n",
    "%matplotlib inline"
   ]
  },
  {
   "cell_type": "code",
   "execution_count": 4,
   "metadata": {
    "collapsed": false
   },
   "outputs": [],
   "source": [
    "class Map(object): \n",
    "    def __init__(self,size,learning_rate=0.1):\n",
    "        self.size = size\n",
    "        self.learning_rate = learning_rate\n",
    "        self.neighborhood_radius = np.sqrt(1/2.0)*size #diagonal of the map\n",
    "        self.neurons = np.random.randn(size,size,2)\n",
    "    \n",
    "    def find_bmu(self, input_node): #find best matching unit\n",
    "        min_distance = np.inf\n",
    "        bum_position = ()\n",
    "        for row in xrange(self.size):\n",
    "            for col in xrange(self.size):\n",
    "                distance = Euclidean_distance(self.neurons[row,col], input_node)\n",
    "                #print distance\n",
    "                if distance < min_distance: \n",
    "                    min_distance = distance\n",
    "                    bum_position =(row,col)\n",
    "                    #print bum_index\n",
    "        #print \"min = \", min_distance\n",
    "        return bum_position\n",
    "    \n",
    "    \n",
    "    def weight_update(self,input_node,bmu_position,new_radius, new_learning_rate): \n",
    "        for row in xrange(self.size):\n",
    "            for col in xrange(self.size):\n",
    "                current_position = (row,col)\n",
    "                #print \"DDDDDDD\"\n",
    "                d = Euclidean_distance(bmu_position,np.array(current_position))\n",
    "                h = self.neighborhood_function(d, new_radius)\n",
    "                delta_weight = input_node - self.neurons[current_position]\n",
    "                new_weight = self.neurons[current_position] + new_learning_rate*h*delta_weight\n",
    "                #print current_position\n",
    "                #print self.neurons[current_position]\n",
    "                #print \"next\"\n",
    "                self.neurons[current_position] = new_weight\n",
    "                #print \"row {0}, col {1}, weight {2}\".format(row,col,self.neurons[current_position]) \n",
    "    \n",
    "    def learning_rate_update(self,turn,iteration):\n",
    "        new_learning_rate = self.learning_rate * np.exp(-turn/float(iteration))\n",
    "        return new_learning_rate\n",
    "    \n",
    "    def neighborhood_function(self, d, new_radius):\n",
    "        h = np.exp(-np.square(float(d))/(2*np.square(new_radius)))\n",
    "        return h\n",
    "    \n",
    "    def radius_update(self, turn, iteration):\n",
    "        new_radius = self.neighborhood_radius * np.exp(-turn*np.log10(self.neighborhood_radius)/iteration)\n",
    "        return new_radius\n",
    "    \n",
    "    def Kohonen_learning(self, training_set, iteration=1000):\n",
    "        #print self.neurons\n",
    "        for turn in xrange(iteration):\n",
    "            for input_node in training_set: \n",
    "                bmu_position = self.find_bmu(input_node)\n",
    "                winning_node = self.neurons[bmu_position]\n",
    "                new_radius = self.radius_update(turn+1, iteration) # turn + 1 to avoid 0\n",
    "                new_learning_rate = self.learning_rate_update(turn,iteration)\n",
    "                self.weight_update(input_node,bmu_position,new_radius,new_learning_rate)\n",
    "            #print \"radius = {0}, learning_rate = {1}\".format(new_radius, new_learning_rate)\n",
    "            #print self.neurons\n",
    "            #print \"next\"\n",
    "        print \"done\"\n",
    "        return self.neurons\n",
    "        \n",
    "        "
   ]
  },
  {
   "cell_type": "code",
   "execution_count": 5,
   "metadata": {
    "collapsed": true
   },
   "outputs": [],
   "source": [
    "def Euclidean_distance(pointA,pointB): #np array \n",
    "    #print pointA, pointB\n",
    "    #print np.linalg.norm(pointA-pointB)\n",
    "    #print \"pointA {0}, pointB {1}, d = {2}\".format(pointA, pointB,np.linalg.norm(pointA-pointB))\n",
    "    return np.linalg.norm(pointA-pointB)"
   ]
  },
  {
   "cell_type": "markdown",
   "metadata": {},
   "source": [
    "Create dataframe"
   ]
  },
  {
   "cell_type": "code",
   "execution_count": 6,
   "metadata": {
    "collapsed": true
   },
   "outputs": [],
   "source": [
    "def str_to_float(df): \n",
    "    new_df = df.copy()\n",
    "    return new_df.applymap(lambda x: float(x.replace(',','.')))"
   ]
  },
  {
   "cell_type": "code",
   "execution_count": 7,
   "metadata": {
    "collapsed": true
   },
   "outputs": [],
   "source": [
    "def z_score(df):\n",
    "    new_df = df.copy()\n",
    "    new_df.x = (new_df.x - new_df.x.mean())/new_df.x.std(ddof=0)\n",
    "    new_df.y = (new_df.y - new_df.y.mean())/new_df.y.std(ddof=0)\n",
    "    return new_df"
   ]
  },
  {
   "cell_type": "code",
   "execution_count": 8,
   "metadata": {
    "collapsed": false
   },
   "outputs": [],
   "source": [
    "df = pd.read_csv('donneespb4.txt',sep=' ',header=None)\n",
    "df.columns = ['x','y','Value']"
   ]
  },
  {
   "cell_type": "code",
   "execution_count": 9,
   "metadata": {
    "collapsed": true
   },
   "outputs": [],
   "source": [
    "df = str_to_float(df)"
   ]
  },
  {
   "cell_type": "code",
   "execution_count": 11,
   "metadata": {
    "collapsed": false
   },
   "outputs": [
    {
     "data": {
      "text/html": [
       "<div>\n",
       "<table border=\"1\" class=\"dataframe\">\n",
       "  <thead>\n",
       "    <tr style=\"text-align: right;\">\n",
       "      <th></th>\n",
       "      <th>x</th>\n",
       "      <th>y</th>\n",
       "      <th>Value</th>\n",
       "    </tr>\n",
       "  </thead>\n",
       "  <tbody>\n",
       "    <tr>\n",
       "      <th>0</th>\n",
       "      <td>1.064435</td>\n",
       "      <td>-1.267294</td>\n",
       "      <td>0.8</td>\n",
       "    </tr>\n",
       "    <tr>\n",
       "      <th>1</th>\n",
       "      <td>-1.016185</td>\n",
       "      <td>-0.788290</td>\n",
       "      <td>0.2</td>\n",
       "    </tr>\n",
       "    <tr>\n",
       "      <th>2</th>\n",
       "      <td>-1.056870</td>\n",
       "      <td>-0.637423</td>\n",
       "      <td>0.2</td>\n",
       "    </tr>\n",
       "    <tr>\n",
       "      <th>3</th>\n",
       "      <td>-1.011227</td>\n",
       "      <td>0.242393</td>\n",
       "      <td>0.2</td>\n",
       "    </tr>\n",
       "    <tr>\n",
       "      <th>4</th>\n",
       "      <td>0.067787</td>\n",
       "      <td>1.517892</td>\n",
       "      <td>0.8</td>\n",
       "    </tr>\n",
       "  </tbody>\n",
       "</table>\n",
       "</div>"
      ],
      "text/plain": [
       "          x         y  Value\n",
       "0  1.064435 -1.267294    0.8\n",
       "1 -1.016185 -0.788290    0.2\n",
       "2 -1.056870 -0.637423    0.2\n",
       "3 -1.011227  0.242393    0.2\n",
       "4  0.067787  1.517892    0.8"
      ]
     },
     "execution_count": 11,
     "metadata": {},
     "output_type": "execute_result"
    }
   ],
   "source": [
    "df = z_score(df)\n",
    "df.head()"
   ]
  },
  {
   "cell_type": "code",
   "execution_count": 12,
   "metadata": {
    "collapsed": false
   },
   "outputs": [
    {
     "data": {
      "text/plain": [
       "array([[ 1.06443548, -1.2672943 ],\n",
       "       [-1.01618529, -0.78829049],\n",
       "       [-1.05687009, -0.63742303],\n",
       "       ..., \n",
       "       [ 1.65570175,  0.94867093],\n",
       "       [-0.96113567, -1.10292421],\n",
       "       [-0.9346392 ,  1.06192977]])"
      ]
     },
     "execution_count": 12,
     "metadata": {},
     "output_type": "execute_result"
    }
   ],
   "source": [
    "train = np.array(df.iloc[:,:-1])\n",
    "train"
   ]
  },
  {
   "cell_type": "code",
   "execution_count": 18,
   "metadata": {
    "collapsed": false
   },
   "outputs": [],
   "source": [
    "m = Map(size = 15, learning_rate = 0.1)"
   ]
  },
  {
   "cell_type": "code",
   "execution_count": 19,
   "metadata": {
    "collapsed": false
   },
   "outputs": [
    {
     "name": "stdout",
     "output_type": "stream",
     "text": [
      "done\n"
     ]
    }
   ],
   "source": [
    "result = m.Kohonen_learning(training_set=train, iteration=10)"
   ]
  },
  {
   "cell_type": "code",
   "execution_count": 20,
   "metadata": {
    "collapsed": false
   },
   "outputs": [
    {
     "data": {
      "text/plain": [
       "array([[[  1.07323495e+00,  -1.14857193e+00],\n",
       "        [  9.87044992e-01,  -1.13053107e+00],\n",
       "        [  8.79841183e-01,  -1.10851812e+00],\n",
       "        [  7.47287776e-01,  -1.08202852e+00],\n",
       "        [  5.85468767e-01,  -1.05125087e+00],\n",
       "        [  3.92931529e-01,  -1.01748307e+00],\n",
       "        [  1.74127345e-01,  -9.83303627e-01],\n",
       "        [ -5.77108989e-02,  -9.52205155e-01],\n",
       "        [ -2.82117032e-01,  -9.27465225e-01],\n",
       "        [ -4.78732858e-01,  -9.10686144e-01],\n",
       "        [ -6.35384562e-01,  -9.01181493e-01],\n",
       "        [ -7.50592722e-01,  -8.96765965e-01],\n",
       "        [ -8.30422550e-01,  -8.95030707e-01],\n",
       "        [ -8.83803634e-01,  -8.94018086e-01],\n",
       "        [ -9.19210894e-01,  -8.92173118e-01]],\n",
       "\n",
       "       [[  1.06611756e+00,  -1.05427396e+00],\n",
       "        [  9.78885260e-01,  -1.03675172e+00],\n",
       "        [  8.71400731e-01,  -1.01598842e+00],\n",
       "        [  7.39858017e-01,  -9.91560018e-01],\n",
       "        [  5.80769292e-01,  -9.63723324e-01],\n",
       "        [  3.92633392e-01,  -9.33754756e-01],\n",
       "        [  1.79024190e-01,  -9.03993153e-01],\n",
       "        [ -4.84082360e-02,  -8.77397048e-01],\n",
       "        [ -2.70634738e-01,  -8.56532136e-01],\n",
       "        [ -4.67600777e-01,  -8.42430566e-01],\n",
       "        [ -6.26215380e-01,  -8.34268838e-01],\n",
       "        [ -7.43736771e-01,  -8.30179080e-01],\n",
       "        [ -8.25443846e-01,  -8.28309740e-01],\n",
       "        [ -8.80089620e-01,  -8.27255434e-01],\n",
       "        [ -9.16300334e-01,  -8.25851663e-01]],\n",
       "\n",
       "       [[  1.06184052e+00,  -9.36695634e-01],\n",
       "        [  9.73998311e-01,  -9.20772786e-01],\n",
       "        [  8.66586668e-01,  -9.02527779e-01],\n",
       "        [  7.36220933e-01,  -8.81524721e-01],\n",
       "        [  5.79764409e-01,  -8.57934585e-01],\n",
       "        [  3.95662044e-01,  -8.32820615e-01],\n",
       "        [  1.86699101e-01,  -8.08110767e-01],\n",
       "        [ -3.69047286e-02,  -7.86149071e-01],\n",
       "        [ -2.57419323e-01,  -7.68840312e-01],\n",
       "        [ -4.55041560e-01,  -7.56803949e-01],\n",
       "        [ -6.15809934e-01,  -7.49265194e-01],\n",
       "        [ -7.35807432e-01,  -7.44816801e-01],\n",
       "        [ -8.19578109e-01,  -7.42245123e-01],\n",
       "        [ -8.75693205e-01,  -7.40735526e-01],\n",
       "        [ -9.12899116e-01,  -7.39545063e-01]],\n",
       "\n",
       "       [[  1.06095162e+00,  -7.93751851e-01],\n",
       "        [  9.72955737e-01,  -7.80606194e-01],\n",
       "        [  8.65911928e-01,  -7.66171385e-01],\n",
       "        [  7.36727872e-01,  -7.49917328e-01],\n",
       "        [  5.82521866e-01,  -7.31786404e-01],\n",
       "        [  4.01691889e-01,  -7.12458002e-01],\n",
       "        [  1.96395942e-01,  -6.93317426e-01],\n",
       "        [ -2.43032275e-02,  -6.76069505e-01],\n",
       "        [ -2.43742569e-01,  -6.62061736e-01],\n",
       "        [ -4.42323340e-01,  -6.51681926e-01],\n",
       "        [ -6.05339296e-01,  -6.44371335e-01],\n",
       "        [ -7.27856366e-01,  -6.39271797e-01],\n",
       "        [ -8.13763219e-01,  -6.35814025e-01],\n",
       "        [ -8.71445739e-01,  -6.33739987e-01],\n",
       "        [ -9.09734366e-01,  -6.32705299e-01]],\n",
       "\n",
       "       [[  1.06367634e+00,  -6.25692386e-01],\n",
       "        [  9.75986909e-01,  -6.16476545e-01],\n",
       "        [  8.69548427e-01,  -6.07030498e-01],\n",
       "        [  7.41423542e-01,  -5.96670949e-01],\n",
       "        [  5.88879936e-01,  -5.84999558e-01],\n",
       "        [  4.10280031e-01,  -5.72179032e-01],\n",
       "        [  2.07350868e-01,  -5.58965718e-01],\n",
       "        [ -1.16586900e-02,  -5.46450335e-01],\n",
       "        [ -2.30844522e-01,  -5.35570632e-01],\n",
       "        [ -4.30730929e-01,  -5.26685225e-01],\n",
       "        [ -5.96016565e-01,  -5.19601718e-01],\n",
       "        [ -7.20960640e-01,  -5.14038532e-01],\n",
       "        [ -8.08922119e-01,  -5.09985502e-01],\n",
       "        [ -8.68124554e-01,  -5.07613133e-01],\n",
       "        [ -9.07454533e-01,  -5.06882975e-01]],\n",
       "\n",
       "       [[  1.06989531e+00,  -4.35654565e-01],\n",
       "        [  9.82960484e-01,  -4.31325677e-01],\n",
       "        [  8.77302501e-01,  -4.27780474e-01],\n",
       "        [  7.49995549e-01,  -4.24150729e-01],\n",
       "        [  5.98346666e-01,  -4.19623170e-01],\n",
       "        [  4.20700293e-01,  -4.13755041e-01],\n",
       "        [  2.18576219e-01,  -4.06633394e-01],\n",
       "        [ -1.91236635e-04,  -3.98802873e-01],\n",
       "        [ -2.20076042e-01,  -3.90970766e-01],\n",
       "        [ -4.21597470e-01,  -3.83676575e-01],\n",
       "        [ -5.89023664e-01,  -3.77215337e-01],\n",
       "        [ -7.16080543e-01,  -3.71841808e-01],\n",
       "        [ -8.05789519e-01,  -3.67929033e-01],\n",
       "        [ -8.66274272e-01,  -3.65860156e-01],\n",
       "        [ -9.06459792e-01,  -3.65744678e-01]],\n",
       "\n",
       "       [[  1.07922541e+00,  -2.29442034e-01],\n",
       "        [  9.93445992e-01,  -2.30560400e-01],\n",
       "        [  8.88661630e-01,  -2.33402401e-01],\n",
       "        [  7.61809288e-01,  -2.36908833e-01],\n",
       "        [  6.10125295e-01,  -2.39816583e-01],\n",
       "        [  4.31966806e-01,  -2.41034983e-01],\n",
       "        [  2.28903145e-01,  -2.39984817e-01],\n",
       "        [  8.80716333e-03,  -2.36761926e-01],\n",
       "        [ -2.12733653e-01,  -2.32026212e-01],\n",
       "        [ -4.16078829e-01,  -2.26679055e-01],\n",
       "        [ -5.85263942e-01,  -2.21566143e-01],\n",
       "        [ -7.13829342e-01,  -2.17369362e-01],\n",
       "        [ -8.04719268e-01,  -2.14608964e-01],\n",
       "        [ -8.66054613e-01,  -2.13621784e-01],\n",
       "        [ -9.06785263e-01,  -2.14475060e-01]],\n",
       "\n",
       "       [[  1.09115425e+00,  -1.46068228e-02],\n",
       "        [  1.00682640e+00,  -2.11654994e-02],\n",
       "        [  9.02895822e-01,  -3.03203135e-02],\n",
       "        [  7.76015964e-01,  -4.08418104e-02],\n",
       "        [  6.23251259e-01,  -5.10281683e-02],\n",
       "        [  4.43023361e-01,  -5.91530718e-02],\n",
       "        [  2.37242150e-01,  -6.40164759e-02],\n",
       "        [  1.43083307e-02,  -6.53699561e-02],\n",
       "        [ -2.09673042e-01,  -6.39667271e-02],\n",
       "        [ -4.14768929e-01,  -6.11663635e-02],\n",
       "        [ -5.85036670e-01,  -5.83363294e-02],\n",
       "        [ -7.14240095e-01,  -5.64206232e-02],\n",
       "        [ -8.05544551e-01,  -5.58486882e-02],\n",
       "        [ -8.67175127e-01,  -5.66817772e-02],\n",
       "        [ -9.08086509e-01,  -5.87759753e-02]],\n",
       "\n",
       "       [[  1.10511515e+00,   2.00665367e-01],\n",
       "        [  1.02237856e+00,   1.89293733e-01],\n",
       "        [  9.19151205e-01,   1.74512078e-01],\n",
       "        [  7.91675869e-01,   1.57667574e-01],\n",
       "        [  6.36767340e-01,   1.40830228e-01],\n",
       "        [  4.52989760e-01,   1.26280270e-01],\n",
       "        [  2.42904440e-01,   1.15749133e-01],\n",
       "        [  1.59209217e-02,   1.09742947e-01],\n",
       "        [ -2.10935464e-01,   1.07367882e-01],\n",
       "        [ -4.17386851e-01,   1.06846608e-01],\n",
       "        [ -5.87827990e-01,   1.06428218e-01],\n",
       "        [ -7.16669245e-01,   1.05093023e-01],\n",
       "        [ -8.07575144e-01,   1.02672348e-01],\n",
       "        [ -8.68956003e-01,   9.95068331e-02],\n",
       "        [ -9.09734580e-01,   9.60462315e-02]],\n",
       "\n",
       "       [[  1.12044101e+00,   4.08388766e-01],\n",
       "        [  1.03926619e+00,   3.93334255e-01],\n",
       "        [  9.36484181e-01,   3.74132166e-01],\n",
       "        [  8.07838611e-01,   3.52161545e-01],\n",
       "        [  6.49855347e-01,   3.29723874e-01],\n",
       "        [  4.61342697e-01,   3.09495502e-01],\n",
       "        [  2.45810201e-01,   2.93609010e-01],\n",
       "        [  1.40806659e-02,   2.82780455e-01],\n",
       "        [ -2.15628693e-01,   2.76052367e-01],\n",
       "        [ -4.22760910e-01,   2.71422723e-01],\n",
       "        [ -5.92393193e-01,   2.66984776e-01],\n",
       "        [ -7.19946437e-01,   2.61800927e-01],\n",
       "        [ -8.09780018e-01,   2.56010588e-01],\n",
       "        [ -8.70516989e-01,   2.50337897e-01],\n",
       "        [ -9.10993714e-01,   2.45529240e-01]],\n",
       "\n",
       "       [[  1.13626690e+00,   6.01329485e-01],\n",
       "        [  1.05648964e+00,   5.83964342e-01],\n",
       "        [  9.53854068e-01,   5.61836357e-01],\n",
       "        [  8.23569983e-01,   5.36246448e-01],\n",
       "        [  6.61882285e-01,   5.09539506e-01],\n",
       "        [  4.67954728e-01,   4.84572485e-01],\n",
       "        [  2.46477619e-01,   4.63725075e-01],\n",
       "        [  9.93990241e-03,   4.47922654e-01],\n",
       "        [ -2.22163693e-01,   4.36332386e-01],\n",
       "        [ -4.29170058e-01,   4.27030473e-01],\n",
       "        [ -5.97144065e-01,   4.18212738e-01],\n",
       "        [ -7.22748808e-01,   4.09110207e-01],\n",
       "        [ -8.11114519e-01,   4.00086045e-01],\n",
       "        [ -8.71047811e-01,   3.92097162e-01],\n",
       "        [ -9.11237619e-01,   3.86081217e-01]],\n",
       "\n",
       "       [[  1.15152200e+00,   7.73617009e-01],\n",
       "        [  1.07290405e+00,   7.55254841e-01],\n",
       "        [  9.70154109e-01,   7.31685956e-01],\n",
       "        [  8.37974231e-01,   7.04020839e-01],\n",
       "        [  6.72382518e-01,   6.74447528e-01],\n",
       "        [  4.72994988e-01,   6.45774701e-01],\n",
       "        [  2.45798170e-01,   6.20479326e-01],\n",
       "        [  4.99321872e-03,   5.99730933e-01],\n",
       "        [ -2.28754786e-01,   5.83058924e-01],\n",
       "        [ -4.34896932e-01,   5.68939811e-01],\n",
       "        [ -6.00671535e-01,   5.55892253e-01],\n",
       "        [ -7.24041010e-01,   5.43323431e-01],\n",
       "        [ -8.10865523e-01,   5.31651887e-01],\n",
       "        [ -8.70070074e-01,   5.21847863e-01],\n",
       "        [ -9.10145824e-01,   5.14881309e-01]],\n",
       "\n",
       "       [[  1.16507753e+00,   9.21505703e-01],\n",
       "        [  1.08736803e+00,   9.03178827e-01],\n",
       "        [  9.84338640e-01,   8.79392294e-01],\n",
       "        [  8.50268468e-01,   8.50981443e-01],\n",
       "        [  6.81039140e-01,   8.19814783e-01],\n",
       "        [  4.76775784e-01,   7.88461881e-01],\n",
       "        [  2.44724652e-01,   7.59374704e-01],\n",
       "        [  6.27050496e-04,   7.34004880e-01],\n",
       "        [ -2.33936979e-01,   7.12444811e-01],\n",
       "        [ -4.38720895e-01,   6.93818515e-01],\n",
       "        [ -6.02151287e-01,   6.77108034e-01],\n",
       "        [ -7.23377505e-01,   6.61858939e-01],\n",
       "        [ -8.08866182e-01,   6.48373581e-01],\n",
       "        [ -8.67588700e-01,   6.37430382e-01],\n",
       "        [ -9.07811873e-01,   6.29875134e-01]],\n",
       "\n",
       "       [[  1.17596266e+00,   1.04387881e+00],\n",
       "        [  1.09894977e+00,   1.02626196e+00],\n",
       "        [  9.95599291e-01,   1.00309938e+00],\n",
       "        [  8.59899706e-01,   9.74918620e-01],\n",
       "        [  6.87707178e-01,   9.43180949e-01],\n",
       "        [  4.79655444e-01,   9.10097877e-01],\n",
       "        [  2.44058778e-01,   8.78007908e-01],\n",
       "        [ -2.15653221e-03,   8.48647939e-01],\n",
       "        [ -2.36827309e-01,   8.22769511e-01],\n",
       "        [ -4.40104525e-01,   8.00263819e-01],\n",
       "        [ -6.01441935e-01,   7.80637367e-01],\n",
       "        [ -7.20933529e-01,   7.63542159e-01],\n",
       "        [ -8.05488231e-01,   7.49060696e-01],\n",
       "        [ -8.64066187e-01,   7.37651684e-01],\n",
       "        [ -9.04710901e-01,   7.29926599e-01]],\n",
       "\n",
       "       [[  1.18347979e+00,   1.14203861e+00],\n",
       "        [  1.10703444e+00,   1.12550483e+00],\n",
       "        [  1.00346049e+00,   1.10345601e+00],\n",
       "        [  8.66618148e-01,   1.07613480e+00],\n",
       "        [  6.92452349e-01,   1.04459028e+00],\n",
       "        [  4.82041473e-01,   1.01063346e+00],\n",
       "        [  2.44443998e-01,   9.76427445e-01],\n",
       "        [ -2.70911145e-03,   9.43942005e-01],\n",
       "        [ -2.37016712e-01,   9.14558837e-01],\n",
       "        [ -4.39007809e-01,   8.88927317e-01],\n",
       "        [ -5.98855055e-01,   8.67082688e-01],\n",
       "        [ -7.17268359e-01,   8.48791001e-01],\n",
       "        [ -8.01420605e-01,   8.33910223e-01],\n",
       "        [ -8.60223811e-01,   8.22552398e-01],\n",
       "        [ -9.01524348e-01,   8.15049327e-01]]])"
      ]
     },
     "execution_count": 20,
     "metadata": {},
     "output_type": "execute_result"
    }
   ],
   "source": [
    "result"
   ]
  },
  {
   "cell_type": "code",
   "execution_count": 21,
   "metadata": {
    "collapsed": true
   },
   "outputs": [],
   "source": [
    "t = result.copy()\n",
    "t.resize(15*15,2)"
   ]
  },
  {
   "cell_type": "code",
   "execution_count": 22,
   "metadata": {
    "collapsed": false
   },
   "outputs": [
    {
     "data": {
      "image/png": "[encoded data removed]",
      "text/plain": [
       "<matplotlib.figure.Figure at 0x3da2f98>"
      ]
     },
     "metadata": {},
     "output_type": "display_data"
    }
   ],
   "source": [
    "df.plot(kind='scatter',x='x',y='y', c='Value')\n",
    "plt.scatter(t[:,0],t[:,1])\n",
    "plt.show()"
   ]
  },
  {
   "cell_type": "code",
   "execution_count": null,
   "metadata": {
    "collapsed": true
   },
   "outputs": [],
   "source": []
  },
  {
   "cell_type": "code",
   "execution_count": null,
   "metadata": {
    "collapsed": true
   },
   "outputs": [],
   "source": []
  },
  {
   "cell_type": "code",
   "execution_count": null,
   "metadata": {
    "collapsed": true
   },
   "outputs": [],
   "source": []
  },
  {
   "cell_type": "code",
   "execution_count": null,
   "metadata": {
    "collapsed": true
   },
   "outputs": [],
   "source": []
  },
  {
   "cell_type": "code",
   "execution_count": null,
   "metadata": {
    "collapsed": true
   },
   "outputs": [],
   "source": []
  },
  {
   "cell_type": "code",
   "execution_count": null,
   "metadata": {
    "collapsed": true
   },
   "outputs": [],
   "source": []
  },
  {
   "cell_type": "code",
   "execution_count": null,
   "metadata": {
    "collapsed": true
   },
   "outputs": [],
   "source": []
  },
  {
   "cell_type": "code",
   "execution_count": 13,
   "metadata": {
    "collapsed": true
   },
   "outputs": [],
   "source": [
    "from PIL import Image"
   ]
  },
  {
   "cell_type": "code",
   "execution_count": 14,
   "metadata": {
    "collapsed": false
   },
   "outputs": [],
   "source": [
    "arr = np.random.randint(0,1, 500*500) #example of a 1-D array\n",
    "arr.resize(500,500)"
   ]
  },
  {
   "cell_type": "code",
   "execution_count": 15,
   "metadata": {
    "collapsed": false
   },
   "outputs": [],
   "source": [
    "for index,row in df.iterrows():\n",
    "    arr[int(row.y),int(row.x)] = row.Value*255"
   ]
  },
  {
   "cell_type": "code",
   "execution_count": 20,
   "metadata": {
    "collapsed": false
   },
   "outputs": [
    {
     "data": {
      "text/plain": [
       "array([[0, 0, 0, ..., 0, 0, 0],\n",
       "       [0, 0, 0, ..., 0, 0, 0],\n",
       "       [0, 0, 0, ..., 0, 0, 0],\n",
       "       ..., \n",
       "       [0, 0, 0, ..., 0, 0, 0],\n",
       "       [0, 0, 0, ..., 0, 0, 0],\n",
       "       [0, 0, 0, ..., 0, 0, 0]])"
      ]
     },
     "execution_count": 20,
     "metadata": {},
     "output_type": "execute_result"
    }
   ],
   "source": [
    "arr"
   ]
  },
  {
   "cell_type": "code",
   "execution_count": 21,
   "metadata": {
    "collapsed": false
   },
   "outputs": [],
   "source": [
    "im = Image.fromarray(arr)\n",
    "im.show()"
   ]
  },
  {
   "cell_type": "code",
   "execution_count": null,
   "metadata": {
    "collapsed": true
   },
   "outputs": [],
   "source": []
  },
  {
   "cell_type": "code",
   "execution_count": null,
   "metadata": {
    "collapsed": true
   },
   "outputs": [],
   "source": []
  }
 ],
 "metadata": {
  "kernelspec": {
   "display_name": "Python 2",
   "language": "python",
   "name": "python2"
  },
  "language_info": {
   "codemirror_mode": {
    "name": "ipython",
    "version": 2
   },
   "file_extension": ".py",
   "mimetype": "text/x-python",
   "name": "python",
   "nbconvert_exporter": "python",
   "pygments_lexer": "ipython2",
   "version": "2.7.10"
  }
 },
 "nbformat": 4,
 "nbformat_minor": 0
}
