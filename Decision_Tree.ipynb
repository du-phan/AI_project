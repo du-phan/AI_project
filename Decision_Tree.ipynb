{
 "cells": [
  {
   "cell_type": "code",
   "execution_count": 1,
   "metadata": {
    "collapsed": true
   },
   "outputs": [],
   "source": [
    "import numpy as np\n",
    "import pandas as pd"
   ]
  },
  {
   "cell_type": "code",
   "execution_count": 2,
   "metadata": {
    "collapsed": false
   },
   "outputs": [],
   "source": [
    "class decision_node:\n",
    "    def __init__(self,col_name=None,value=None,results=None,true_branch=None,false_branch=None):\n",
    "        self.col_name=col_name # column name of criteria being tested\n",
    "        self.value=value # vlaue necessary to get a true result\n",
    "        self.results=results # dict of results for a branch, None for everything except endpoints\n",
    "        self.true_branch = true_branch # true decision nodes \n",
    "        self.false_branch = false_branch # false decision nodes\n",
    "        \n",
    "    def classify_row(self,row):\n",
    "        if self.results != None:\n",
    "            return self.results.keys()[0]\n",
    "        else:\n",
    "            decision_col = self.col_name\n",
    "            decision_value = self.value\n",
    "            if isinstance(decision_value,np.int64):\n",
    "                if row[decision_col] > decision_value: \n",
    "                    return self.true_branch.classify_row(row)\n",
    "                else: \n",
    "                    return self.false_branch.classify_row(row)\n",
    "            else:\n",
    "                if row[decision_col] == decision_value:\n",
    "                    return self.true_branch.classify_row(row)\n",
    "                else: \n",
    "                    return self.false_branch.classify_row(row)\n",
    "    \n",
    "    def classify(self,df):\n",
    "        predicted_list = []\n",
    "        for index, row in df.iterrows(): \n",
    "            predicted_result = self.classify_row(row)\n",
    "            predicted_list.append(predicted_result)\n",
    "        new_df = df.copy()\n",
    "        new_df['Prediction'] = predicted_list\n",
    "        return new_df\n",
    "    \n",
    "    def print_tree(self,indent=''):\n",
    "        # Is this a leaf node?\n",
    "        if self.results!=None:\n",
    "            print str(self.results.keys()[0])\n",
    "        else:\n",
    "            # Print the criteria\n",
    "            print 'Variable ' + str(self.col_name)+' : >='+str(self.value)+' ? ' if isinstance(self.value, np.int64) \\\n",
    "                else 'Variable ' + str(self.col_name)+' : is '+str(self.value)+' ? '\n",
    "            # Print the branches\n",
    "            print indent+'True->',\n",
    "            self.true_branch.print_tree(indent+'  ')\n",
    "            print indent+'False->',\n",
    "            self.false_branch.print_tree(indent+'  ')"
   ]
  },
  {
   "cell_type": "code",
   "execution_count": 3,
   "metadata": {
    "collapsed": true
   },
   "outputs": [],
   "source": [
    "# Divides a set on a specific column. Can handle numeric or nominal values\n",
    "\n",
    "def divide_set(df,column,value): # rows is a df, column is string (col name)\n",
    "    # Make a function that tells us if a row is in the first group \n",
    "    # (true) or the second group (false)\n",
    "    split_function=None\n",
    "    # for numerical values\n",
    "    if isinstance(value,np.int64) or isinstance(value,np.float64):\n",
    "        split_function=lambda x : x >= value\n",
    "    # for nominal values\n",
    "    else:\n",
    "        split_function=lambda x : x == value\n",
    "   \n",
    "   # Divide the rows into two sets and return them\n",
    "    df_true = df.loc[df[column].apply(split_function)]\n",
    "    df_false = df.loc[~df[column].apply(split_function)]\n",
    "    #set1=[row for row in rows if split_function(row)] # if split_function(row) \n",
    "    #set2=[row for row in rows if not split_function(row)]\n",
    "    return df_true, df_false"
   ]
  },
  {
   "cell_type": "code",
   "execution_count": 4,
   "metadata": {
    "collapsed": true
   },
   "outputs": [],
   "source": [
    "from collections import defaultdict\n",
    "def unique_counts(df):\n",
    "    results = defaultdict(lambda: 0)\n",
    "    for idnex, row in df.iterrows():\n",
    "        r = row[df.columns[-1]]\n",
    "        results[r]+=1\n",
    "    return dict(results) "
   ]
  },
  {
   "cell_type": "code",
   "execution_count": 5,
   "metadata": {
    "collapsed": true
   },
   "outputs": [],
   "source": [
    "# Entropy is the sum of p(x)log(p(x)) across all the different possible results\n",
    "def entropy(df):\n",
    "    from math import log\n",
    "    log2 = lambda x:log(x)/log(2)  \n",
    "    results = unique_counts(df)\n",
    "    # Now calculate the entropy\n",
    "    ent=0.0\n",
    "    for r in results.keys():\n",
    "        # current probability of class\n",
    "        p=float(results[r])/df.shape[0]\n",
    "        ent=ent-p*log2(p)\n",
    "    return ent"
   ]
  },
  {
   "cell_type": "code",
   "execution_count": 6,
   "metadata": {
    "collapsed": true
   },
   "outputs": [],
   "source": [
    "def build_tree(df, score_function=entropy):\n",
    "    if df.shape[0] == 0: return decision_node()\n",
    "    current_score = score_function(df)\n",
    "\n",
    "    best_gain = 0.0\n",
    "    best_criteria = None\n",
    "    best_sets = None\n",
    "\n",
    "    for col_name in df.columns[:-1]: #last col is result\n",
    "        # find different values in this column\n",
    "        col_values = set(df[col_name])\n",
    "\n",
    "        # for each possible value, try to divide on that value\n",
    "        for value in col_values:\n",
    "            df_true, df_false = divide_set(df, col_name, value)\n",
    "\n",
    "            # Information gain\n",
    "            p = float(df_true.shape[0])/df.shape[0]\n",
    "            gain = current_score - p*score_function(df_true) - (1-p)*score_function(df_false)\n",
    "            if gain > best_gain and df_true.shape[0] > 0 and df_false.shape[0] > 0:\n",
    "                best_gain = gain\n",
    "                best_criteria = (col_name, value)\n",
    "                best_sets = (df_true, df_false)\n",
    "\n",
    "    if best_gain > 0:\n",
    "        trueBranch = build_tree(best_sets[0])\n",
    "        falseBranch = build_tree(best_sets[1])\n",
    "        return decision_node(col_name=best_criteria[0], value=best_criteria[1],\n",
    "                true_branch=trueBranch, false_branch=falseBranch)\n",
    "    else:\n",
    "        return decision_node(results=unique_counts(df))"
   ]
  },
  {
   "cell_type": "markdown",
   "metadata": {},
   "source": [
    "Create data frame"
   ]
  },
  {
   "cell_type": "code",
   "execution_count": 7,
   "metadata": {
    "collapsed": false
   },
   "outputs": [],
   "source": [
    "df = pd.DataFrame()"
   ]
  },
  {
   "cell_type": "code",
   "execution_count": 8,
   "metadata": {
    "collapsed": true
   },
   "outputs": [],
   "source": [
    "Type = ['courte','courte','longue','longue','courte','longue','longue','longue','courte','courte']"
   ]
  },
  {
   "cell_type": "code",
   "execution_count": 9,
   "metadata": {
    "collapsed": true
   },
   "outputs": [],
   "source": [
    "Prop = ['chimique','solaire','chimique','solaire','nucleaire','chimique','chimique','solaire','nucleaire','chimique']"
   ]
  },
  {
   "cell_type": "code",
   "execution_count": 10,
   "metadata": {
    "collapsed": true
   },
   "outputs": [],
   "source": [
    "Astro = [6,6,3,4,6,6,4,6,3,3]"
   ]
  },
  {
   "cell_type": "code",
   "execution_count": 11,
   "metadata": {
    "collapsed": true
   },
   "outputs": [],
   "source": [
    "MOI = ['freinage','freinage','aerocapt.','freinage','freinage','freinage', 'aerocapt.','freinage','aerocapt.','aerocapt.']"
   ]
  },
  {
   "cell_type": "code",
   "execution_count": 12,
   "metadata": {
    "collapsed": true
   },
   "outputs": [],
   "source": [
    "ERV = ['terrestre','terrestre','martienne','terrestre','terrestre','terrestre','terrestre','martienne','terrestre','martienne']"
   ]
  },
  {
   "cell_type": "code",
   "execution_count": 13,
   "metadata": {
    "collapsed": true
   },
   "outputs": [],
   "source": [
    "EDL = ['gonflable','gonflable','rigide','gonflable','gonflable','gonflable','gonflable','gonflable','rigide','gonflable']"
   ]
  },
  {
   "cell_type": "code",
   "execution_count": 14,
   "metadata": {
    "collapsed": true
   },
   "outputs": [],
   "source": [
    "Eval = ['TC','TC','A','A','TC','TC','A','TC','TC','TC']"
   ]
  },
  {
   "cell_type": "code",
   "execution_count": 15,
   "metadata": {
    "collapsed": false
   },
   "outputs": [],
   "source": [
    "df['Type'] = Type\n",
    "df['Prop'] = Prop\n",
    "df['Astro'] = Astro\n",
    "df['MOI'] = MOI\n",
    "df['ERV'] = ERV\n",
    "df['EDL'] = EDL\n",
    "df['Eval'] = Eval"
   ]
  },
  {
   "cell_type": "code",
   "execution_count": 27,
   "metadata": {
    "collapsed": false
   },
   "outputs": [
    {
     "data": {
      "text/html": [
       "<div>\n",
       "<table border=\"1\" class=\"dataframe\">\n",
       "  <thead>\n",
       "    <tr style=\"text-align: right;\">\n",
       "      <th></th>\n",
       "      <th>Type</th>\n",
       "      <th>Prop</th>\n",
       "      <th>Astro</th>\n",
       "      <th>MOI</th>\n",
       "      <th>ERV</th>\n",
       "      <th>EDL</th>\n",
       "      <th>Eval</th>\n",
       "    </tr>\n",
       "  </thead>\n",
       "  <tbody>\n",
       "    <tr>\n",
       "      <th>0</th>\n",
       "      <td>courte</td>\n",
       "      <td>chimique</td>\n",
       "      <td>6</td>\n",
       "      <td>freinage</td>\n",
       "      <td>terrestre</td>\n",
       "      <td>gonflable</td>\n",
       "      <td>TC</td>\n",
       "    </tr>\n",
       "    <tr>\n",
       "      <th>1</th>\n",
       "      <td>courte</td>\n",
       "      <td>solaire</td>\n",
       "      <td>6</td>\n",
       "      <td>freinage</td>\n",
       "      <td>terrestre</td>\n",
       "      <td>gonflable</td>\n",
       "      <td>TC</td>\n",
       "    </tr>\n",
       "    <tr>\n",
       "      <th>2</th>\n",
       "      <td>longue</td>\n",
       "      <td>chimique</td>\n",
       "      <td>3</td>\n",
       "      <td>aerocapt.</td>\n",
       "      <td>martienne</td>\n",
       "      <td>rigide</td>\n",
       "      <td>A</td>\n",
       "    </tr>\n",
       "    <tr>\n",
       "      <th>3</th>\n",
       "      <td>longue</td>\n",
       "      <td>solaire</td>\n",
       "      <td>4</td>\n",
       "      <td>freinage</td>\n",
       "      <td>terrestre</td>\n",
       "      <td>gonflable</td>\n",
       "      <td>A</td>\n",
       "    </tr>\n",
       "    <tr>\n",
       "      <th>4</th>\n",
       "      <td>courte</td>\n",
       "      <td>nucleaire</td>\n",
       "      <td>6</td>\n",
       "      <td>freinage</td>\n",
       "      <td>terrestre</td>\n",
       "      <td>gonflable</td>\n",
       "      <td>TC</td>\n",
       "    </tr>\n",
       "    <tr>\n",
       "      <th>5</th>\n",
       "      <td>longue</td>\n",
       "      <td>chimique</td>\n",
       "      <td>6</td>\n",
       "      <td>freinage</td>\n",
       "      <td>terrestre</td>\n",
       "      <td>gonflable</td>\n",
       "      <td>TC</td>\n",
       "    </tr>\n",
       "    <tr>\n",
       "      <th>6</th>\n",
       "      <td>longue</td>\n",
       "      <td>chimique</td>\n",
       "      <td>4</td>\n",
       "      <td>aerocapt.</td>\n",
       "      <td>terrestre</td>\n",
       "      <td>gonflable</td>\n",
       "      <td>A</td>\n",
       "    </tr>\n",
       "    <tr>\n",
       "      <th>7</th>\n",
       "      <td>longue</td>\n",
       "      <td>solaire</td>\n",
       "      <td>6</td>\n",
       "      <td>freinage</td>\n",
       "      <td>martienne</td>\n",
       "      <td>gonflable</td>\n",
       "      <td>TC</td>\n",
       "    </tr>\n",
       "    <tr>\n",
       "      <th>8</th>\n",
       "      <td>courte</td>\n",
       "      <td>nucleaire</td>\n",
       "      <td>3</td>\n",
       "      <td>aerocapt.</td>\n",
       "      <td>terrestre</td>\n",
       "      <td>rigide</td>\n",
       "      <td>TC</td>\n",
       "    </tr>\n",
       "    <tr>\n",
       "      <th>9</th>\n",
       "      <td>courte</td>\n",
       "      <td>chimique</td>\n",
       "      <td>3</td>\n",
       "      <td>aerocapt.</td>\n",
       "      <td>martienne</td>\n",
       "      <td>gonflable</td>\n",
       "      <td>TC</td>\n",
       "    </tr>\n",
       "  </tbody>\n",
       "</table>\n",
       "</div>"
      ],
      "text/plain": [
       "     Type       Prop  Astro        MOI        ERV        EDL Eval\n",
       "0  courte   chimique      6   freinage  terrestre  gonflable   TC\n",
       "1  courte    solaire      6   freinage  terrestre  gonflable   TC\n",
       "2  longue   chimique      3  aerocapt.  martienne     rigide    A\n",
       "3  longue    solaire      4   freinage  terrestre  gonflable    A\n",
       "4  courte  nucleaire      6   freinage  terrestre  gonflable   TC\n",
       "5  longue   chimique      6   freinage  terrestre  gonflable   TC\n",
       "6  longue   chimique      4  aerocapt.  terrestre  gonflable    A\n",
       "7  longue    solaire      6   freinage  martienne  gonflable   TC\n",
       "8  courte  nucleaire      3  aerocapt.  terrestre     rigide   TC\n",
       "9  courte   chimique      3  aerocapt.  martienne  gonflable   TC"
      ]
     },
     "execution_count": 27,
     "metadata": {},
     "output_type": "execute_result"
    }
   ],
   "source": [
    "df"
   ]
  },
  {
   "cell_type": "code",
   "execution_count": 17,
   "metadata": {
    "collapsed": false
   },
   "outputs": [],
   "source": [
    "training_set = df.loc[[0,2,4,5,6,8],:].reset_index(drop=True)\n",
    "testing_set = df.loc[[1,3,7,9],:].reset_index(drop=True)"
   ]
  },
  {
   "cell_type": "code",
   "execution_count": 18,
   "metadata": {
    "collapsed": false
   },
   "outputs": [
    {
     "data": {
      "text/html": [
       "<div>\n",
       "<table border=\"1\" class=\"dataframe\">\n",
       "  <thead>\n",
       "    <tr style=\"text-align: right;\">\n",
       "      <th></th>\n",
       "      <th>Type</th>\n",
       "      <th>Prop</th>\n",
       "      <th>Astro</th>\n",
       "      <th>MOI</th>\n",
       "      <th>ERV</th>\n",
       "      <th>EDL</th>\n",
       "      <th>Eval</th>\n",
       "    </tr>\n",
       "  </thead>\n",
       "  <tbody>\n",
       "    <tr>\n",
       "      <th>0</th>\n",
       "      <td>courte</td>\n",
       "      <td>chimique</td>\n",
       "      <td>6</td>\n",
       "      <td>freinage</td>\n",
       "      <td>terrestre</td>\n",
       "      <td>gonflable</td>\n",
       "      <td>TC</td>\n",
       "    </tr>\n",
       "    <tr>\n",
       "      <th>1</th>\n",
       "      <td>longue</td>\n",
       "      <td>chimique</td>\n",
       "      <td>3</td>\n",
       "      <td>aerocapt.</td>\n",
       "      <td>martienne</td>\n",
       "      <td>rigide</td>\n",
       "      <td>A</td>\n",
       "    </tr>\n",
       "    <tr>\n",
       "      <th>2</th>\n",
       "      <td>courte</td>\n",
       "      <td>nucleaire</td>\n",
       "      <td>6</td>\n",
       "      <td>freinage</td>\n",
       "      <td>terrestre</td>\n",
       "      <td>gonflable</td>\n",
       "      <td>TC</td>\n",
       "    </tr>\n",
       "    <tr>\n",
       "      <th>3</th>\n",
       "      <td>longue</td>\n",
       "      <td>chimique</td>\n",
       "      <td>6</td>\n",
       "      <td>freinage</td>\n",
       "      <td>terrestre</td>\n",
       "      <td>gonflable</td>\n",
       "      <td>TC</td>\n",
       "    </tr>\n",
       "    <tr>\n",
       "      <th>4</th>\n",
       "      <td>longue</td>\n",
       "      <td>chimique</td>\n",
       "      <td>4</td>\n",
       "      <td>aerocapt.</td>\n",
       "      <td>terrestre</td>\n",
       "      <td>gonflable</td>\n",
       "      <td>A</td>\n",
       "    </tr>\n",
       "    <tr>\n",
       "      <th>5</th>\n",
       "      <td>courte</td>\n",
       "      <td>nucleaire</td>\n",
       "      <td>3</td>\n",
       "      <td>aerocapt.</td>\n",
       "      <td>terrestre</td>\n",
       "      <td>rigide</td>\n",
       "      <td>TC</td>\n",
       "    </tr>\n",
       "  </tbody>\n",
       "</table>\n",
       "</div>"
      ],
      "text/plain": [
       "     Type       Prop  Astro        MOI        ERV        EDL Eval\n",
       "0  courte   chimique      6   freinage  terrestre  gonflable   TC\n",
       "1  longue   chimique      3  aerocapt.  martienne     rigide    A\n",
       "2  courte  nucleaire      6   freinage  terrestre  gonflable   TC\n",
       "3  longue   chimique      6   freinage  terrestre  gonflable   TC\n",
       "4  longue   chimique      4  aerocapt.  terrestre  gonflable    A\n",
       "5  courte  nucleaire      3  aerocapt.  terrestre     rigide   TC"
      ]
     },
     "execution_count": 18,
     "metadata": {},
     "output_type": "execute_result"
    }
   ],
   "source": [
    "training_set"
   ]
  },
  {
   "cell_type": "code",
   "execution_count": 19,
   "metadata": {
    "collapsed": false
   },
   "outputs": [
    {
     "data": {
      "text/html": [
       "<div>\n",
       "<table border=\"1\" class=\"dataframe\">\n",
       "  <thead>\n",
       "    <tr style=\"text-align: right;\">\n",
       "      <th></th>\n",
       "      <th>Type</th>\n",
       "      <th>Prop</th>\n",
       "      <th>Astro</th>\n",
       "      <th>MOI</th>\n",
       "      <th>ERV</th>\n",
       "      <th>EDL</th>\n",
       "      <th>Eval</th>\n",
       "    </tr>\n",
       "  </thead>\n",
       "  <tbody>\n",
       "    <tr>\n",
       "      <th>0</th>\n",
       "      <td>courte</td>\n",
       "      <td>solaire</td>\n",
       "      <td>6</td>\n",
       "      <td>freinage</td>\n",
       "      <td>terrestre</td>\n",
       "      <td>gonflable</td>\n",
       "      <td>TC</td>\n",
       "    </tr>\n",
       "    <tr>\n",
       "      <th>1</th>\n",
       "      <td>longue</td>\n",
       "      <td>solaire</td>\n",
       "      <td>4</td>\n",
       "      <td>freinage</td>\n",
       "      <td>terrestre</td>\n",
       "      <td>gonflable</td>\n",
       "      <td>A</td>\n",
       "    </tr>\n",
       "    <tr>\n",
       "      <th>2</th>\n",
       "      <td>longue</td>\n",
       "      <td>solaire</td>\n",
       "      <td>6</td>\n",
       "      <td>freinage</td>\n",
       "      <td>martienne</td>\n",
       "      <td>gonflable</td>\n",
       "      <td>TC</td>\n",
       "    </tr>\n",
       "    <tr>\n",
       "      <th>3</th>\n",
       "      <td>courte</td>\n",
       "      <td>chimique</td>\n",
       "      <td>3</td>\n",
       "      <td>aerocapt.</td>\n",
       "      <td>martienne</td>\n",
       "      <td>gonflable</td>\n",
       "      <td>TC</td>\n",
       "    </tr>\n",
       "  </tbody>\n",
       "</table>\n",
       "</div>"
      ],
      "text/plain": [
       "     Type      Prop  Astro        MOI        ERV        EDL Eval\n",
       "0  courte   solaire      6   freinage  terrestre  gonflable   TC\n",
       "1  longue   solaire      4   freinage  terrestre  gonflable    A\n",
       "2  longue   solaire      6   freinage  martienne  gonflable   TC\n",
       "3  courte  chimique      3  aerocapt.  martienne  gonflable   TC"
      ]
     },
     "execution_count": 19,
     "metadata": {},
     "output_type": "execute_result"
    }
   ],
   "source": [
    "testing_set"
   ]
  },
  {
   "cell_type": "code",
   "execution_count": 25,
   "metadata": {
    "collapsed": false
   },
   "outputs": [],
   "source": [
    "tree = build_tree(df)"
   ]
  },
  {
   "cell_type": "code",
   "execution_count": 26,
   "metadata": {
    "collapsed": false
   },
   "outputs": [
    {
     "name": "stdout",
     "output_type": "stream",
     "text": [
      "Variable Type : is courte ? \n",
      "True-> TC\n",
      "False-> Variable Astro : >=6 ? \n",
      "  True-> TC\n",
      "  False-> A\n"
     ]
    }
   ],
   "source": [
    "tree.print_tree()"
   ]
  },
  {
   "cell_type": "code",
   "execution_count": 28,
   "metadata": {
    "collapsed": false
   },
   "outputs": [
    {
     "data": {
      "text/html": [
       "<div>\n",
       "<table border=\"1\" class=\"dataframe\">\n",
       "  <thead>\n",
       "    <tr style=\"text-align: right;\">\n",
       "      <th></th>\n",
       "      <th>Type</th>\n",
       "      <th>Prop</th>\n",
       "      <th>Astro</th>\n",
       "      <th>MOI</th>\n",
       "      <th>ERV</th>\n",
       "      <th>EDL</th>\n",
       "      <th>Eval</th>\n",
       "      <th>Prediction</th>\n",
       "    </tr>\n",
       "  </thead>\n",
       "  <tbody>\n",
       "    <tr>\n",
       "      <th>0</th>\n",
       "      <td>courte</td>\n",
       "      <td>chimique</td>\n",
       "      <td>6</td>\n",
       "      <td>freinage</td>\n",
       "      <td>terrestre</td>\n",
       "      <td>gonflable</td>\n",
       "      <td>TC</td>\n",
       "      <td>TC</td>\n",
       "    </tr>\n",
       "    <tr>\n",
       "      <th>1</th>\n",
       "      <td>courte</td>\n",
       "      <td>solaire</td>\n",
       "      <td>6</td>\n",
       "      <td>freinage</td>\n",
       "      <td>terrestre</td>\n",
       "      <td>gonflable</td>\n",
       "      <td>TC</td>\n",
       "      <td>TC</td>\n",
       "    </tr>\n",
       "    <tr>\n",
       "      <th>2</th>\n",
       "      <td>longue</td>\n",
       "      <td>chimique</td>\n",
       "      <td>3</td>\n",
       "      <td>aerocapt.</td>\n",
       "      <td>martienne</td>\n",
       "      <td>rigide</td>\n",
       "      <td>A</td>\n",
       "      <td>A</td>\n",
       "    </tr>\n",
       "    <tr>\n",
       "      <th>3</th>\n",
       "      <td>longue</td>\n",
       "      <td>solaire</td>\n",
       "      <td>4</td>\n",
       "      <td>freinage</td>\n",
       "      <td>terrestre</td>\n",
       "      <td>gonflable</td>\n",
       "      <td>A</td>\n",
       "      <td>A</td>\n",
       "    </tr>\n",
       "    <tr>\n",
       "      <th>4</th>\n",
       "      <td>courte</td>\n",
       "      <td>nucleaire</td>\n",
       "      <td>6</td>\n",
       "      <td>freinage</td>\n",
       "      <td>terrestre</td>\n",
       "      <td>gonflable</td>\n",
       "      <td>TC</td>\n",
       "      <td>TC</td>\n",
       "    </tr>\n",
       "    <tr>\n",
       "      <th>5</th>\n",
       "      <td>longue</td>\n",
       "      <td>chimique</td>\n",
       "      <td>6</td>\n",
       "      <td>freinage</td>\n",
       "      <td>terrestre</td>\n",
       "      <td>gonflable</td>\n",
       "      <td>TC</td>\n",
       "      <td>A</td>\n",
       "    </tr>\n",
       "    <tr>\n",
       "      <th>6</th>\n",
       "      <td>longue</td>\n",
       "      <td>chimique</td>\n",
       "      <td>4</td>\n",
       "      <td>aerocapt.</td>\n",
       "      <td>terrestre</td>\n",
       "      <td>gonflable</td>\n",
       "      <td>A</td>\n",
       "      <td>A</td>\n",
       "    </tr>\n",
       "    <tr>\n",
       "      <th>7</th>\n",
       "      <td>longue</td>\n",
       "      <td>solaire</td>\n",
       "      <td>6</td>\n",
       "      <td>freinage</td>\n",
       "      <td>martienne</td>\n",
       "      <td>gonflable</td>\n",
       "      <td>TC</td>\n",
       "      <td>A</td>\n",
       "    </tr>\n",
       "    <tr>\n",
       "      <th>8</th>\n",
       "      <td>courte</td>\n",
       "      <td>nucleaire</td>\n",
       "      <td>3</td>\n",
       "      <td>aerocapt.</td>\n",
       "      <td>terrestre</td>\n",
       "      <td>rigide</td>\n",
       "      <td>TC</td>\n",
       "      <td>TC</td>\n",
       "    </tr>\n",
       "    <tr>\n",
       "      <th>9</th>\n",
       "      <td>courte</td>\n",
       "      <td>chimique</td>\n",
       "      <td>3</td>\n",
       "      <td>aerocapt.</td>\n",
       "      <td>martienne</td>\n",
       "      <td>gonflable</td>\n",
       "      <td>TC</td>\n",
       "      <td>TC</td>\n",
       "    </tr>\n",
       "  </tbody>\n",
       "</table>\n",
       "</div>"
      ],
      "text/plain": [
       "     Type       Prop  Astro        MOI        ERV        EDL Eval Prediction\n",
       "0  courte   chimique      6   freinage  terrestre  gonflable   TC         TC\n",
       "1  courte    solaire      6   freinage  terrestre  gonflable   TC         TC\n",
       "2  longue   chimique      3  aerocapt.  martienne     rigide    A          A\n",
       "3  longue    solaire      4   freinage  terrestre  gonflable    A          A\n",
       "4  courte  nucleaire      6   freinage  terrestre  gonflable   TC         TC\n",
       "5  longue   chimique      6   freinage  terrestre  gonflable   TC          A\n",
       "6  longue   chimique      4  aerocapt.  terrestre  gonflable    A          A\n",
       "7  longue    solaire      6   freinage  martienne  gonflable   TC          A\n",
       "8  courte  nucleaire      3  aerocapt.  terrestre     rigide   TC         TC\n",
       "9  courte   chimique      3  aerocapt.  martienne  gonflable   TC         TC"
      ]
     },
     "execution_count": 28,
     "metadata": {},
     "output_type": "execute_result"
    }
   ],
   "source": [
    "tree.classify(df)"
   ]
  },
  {
   "cell_type": "code",
   "execution_count": null,
   "metadata": {
    "collapsed": true
   },
   "outputs": [],
   "source": []
  }
 ],
 "metadata": {
  "kernelspec": {
   "display_name": "Python 2",
   "language": "python",
   "name": "python2"
  },
  "language_info": {
   "codemirror_mode": {
    "name": "ipython",
    "version": 2
   },
   "file_extension": ".py",
   "mimetype": "text/x-python",
   "name": "python",
   "nbconvert_exporter": "python",
   "pygments_lexer": "ipython2",
   "version": "2.7.11"
  }
 },
 "nbformat": 4,
 "nbformat_minor": 0
}
